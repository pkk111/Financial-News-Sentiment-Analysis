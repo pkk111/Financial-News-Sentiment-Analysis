{
  "nbformat": 4,
  "nbformat_minor": 0,
  "metadata": {
    "colab": {
      "name": "MinorProj.ipynb",
      "provenance": [],
      "collapsed_sections": [],
      "toc_visible": true
    },
    "kernelspec": {
      "name": "python3",
      "display_name": "Python 3"
    },
    "language_info": {
      "name": "python"
    }
  },
  "cells": [
    {
      "cell_type": "markdown",
      "metadata": {
        "id": "wZAtGi2QZOiH"
      },
      "source": [
        "## Importing Dataset and libraries"
      ]
    },
    {
      "cell_type": "code",
      "metadata": {
        "id": "PTo6ZlnILNPi",
        "colab": {
          "base_uri": "https://localhost:8080/"
        },
        "outputId": "fd9ca052-466a-4b7b-9d33-1695bd64d536"
      },
      "source": [
        "import pandas as pd\n",
        "import numpy as np\n",
        "from tqdm import tqdm\n",
        "from keras.preprocessing.text import Tokenizer\n",
        "tqdm.pandas(desc=\"progress-bar\")\n",
        "from gensim.models import Doc2Vec\n",
        "from sklearn import utils\n",
        "from sklearn.model_selection import train_test_split\n",
        "from keras.preprocessing.sequence import pad_sequences\n",
        "import gensim\n",
        "from sklearn.linear_model import LogisticRegression\n",
        "from gensim.models.doc2vec import TaggedDocument\n",
        "import re\n",
        "import seaborn as sns\n",
        "import matplotlib.pyplot as plt\n",
        "import nltk\n",
        "from nltk.corpus import stopwords\n",
        "\n",
        "nltk.download('punkt')"
      ],
      "execution_count": 1,
      "outputs": [
        {
          "output_type": "stream",
          "name": "stdout",
          "text": [
            "[nltk_data] Downloading package punkt to /root/nltk_data...\n",
            "[nltk_data]   Package punkt is already up-to-date!\n"
          ]
        },
        {
          "output_type": "execute_result",
          "data": {
            "text/plain": [
              "True"
            ]
          },
          "metadata": {},
          "execution_count": 1
        }
      ]
    },
    {
      "cell_type": "code",
      "metadata": {
        "colab": {
          "base_uri": "https://localhost:8080/",
          "height": 206
        },
        "id": "CFTSskC7L0_G",
        "outputId": "88201168-3ec5-4467-9af9-a6bd83616c23"
      },
      "source": [
        "url = \"https://raw.githubusercontent.com/pkk111/Financial-News-Sentiment-Analysis/main/all-data.csv\"\n",
        "df = pd.read_csv(url, delimiter=',',encoding='latin-1')\n",
        "df.head()"
      ],
      "execution_count": 2,
      "outputs": [
        {
          "output_type": "execute_result",
          "data": {
            "text/html": [
              "<div>\n",
              "<style scoped>\n",
              "    .dataframe tbody tr th:only-of-type {\n",
              "        vertical-align: middle;\n",
              "    }\n",
              "\n",
              "    .dataframe tbody tr th {\n",
              "        vertical-align: top;\n",
              "    }\n",
              "\n",
              "    .dataframe thead th {\n",
              "        text-align: right;\n",
              "    }\n",
              "</style>\n",
              "<table border=\"1\" class=\"dataframe\">\n",
              "  <thead>\n",
              "    <tr style=\"text-align: right;\">\n",
              "      <th></th>\n",
              "      <th>neutral</th>\n",
              "      <th>According to Gran , the company has no plans to move all production to Russia , although that is where the company is growing .</th>\n",
              "    </tr>\n",
              "  </thead>\n",
              "  <tbody>\n",
              "    <tr>\n",
              "      <th>0</th>\n",
              "      <td>neutral</td>\n",
              "      <td>Technopolis plans to develop in stages an area...</td>\n",
              "    </tr>\n",
              "    <tr>\n",
              "      <th>1</th>\n",
              "      <td>negative</td>\n",
              "      <td>The international electronic industry company ...</td>\n",
              "    </tr>\n",
              "    <tr>\n",
              "      <th>2</th>\n",
              "      <td>positive</td>\n",
              "      <td>With the new production plant the company woul...</td>\n",
              "    </tr>\n",
              "    <tr>\n",
              "      <th>3</th>\n",
              "      <td>positive</td>\n",
              "      <td>According to the company 's updated strategy f...</td>\n",
              "    </tr>\n",
              "    <tr>\n",
              "      <th>4</th>\n",
              "      <td>positive</td>\n",
              "      <td>FINANCING OF ASPOCOMP 'S GROWTH Aspocomp is ag...</td>\n",
              "    </tr>\n",
              "  </tbody>\n",
              "</table>\n",
              "</div>"
            ],
            "text/plain": [
              "    neutral According to Gran , the company has no plans to move all production to Russia , although that is where the company is growing .\n",
              "0   neutral  Technopolis plans to develop in stages an area...                                                                             \n",
              "1  negative  The international electronic industry company ...                                                                             \n",
              "2  positive  With the new production plant the company woul...                                                                             \n",
              "3  positive  According to the company 's updated strategy f...                                                                             \n",
              "4  positive  FINANCING OF ASPOCOMP 'S GROWTH Aspocomp is ag...                                                                             "
            ]
          },
          "metadata": {},
          "execution_count": 2
        }
      ]
    },
    {
      "cell_type": "code",
      "metadata": {
        "id": "U19_ZlaqNDNG"
      },
      "source": [
        "df = df.rename(columns={'neutral':'sentiment','According to Gran , the company has no plans to move all production to Russia , although that is where the company is growing .':'Message'})"
      ],
      "execution_count": 3,
      "outputs": []
    },
    {
      "cell_type": "code",
      "metadata": {
        "colab": {
          "base_uri": "https://localhost:8080/"
        },
        "id": "i3hpBFQcNHc1",
        "outputId": "94a8bf0a-aa8c-4841-f210-70b195343357"
      },
      "source": [
        "df.shape"
      ],
      "execution_count": 4,
      "outputs": [
        {
          "output_type": "execute_result",
          "data": {
            "text/plain": [
              "(4845, 2)"
            ]
          },
          "metadata": {},
          "execution_count": 4
        }
      ]
    },
    {
      "cell_type": "code",
      "metadata": {
        "colab": {
          "base_uri": "https://localhost:8080/"
        },
        "id": "qPr5Q-KzNLMe",
        "outputId": "86f748f1-e5b7-4ba4-a49f-861e2069fd2a"
      },
      "source": [
        "df.index = range(4845)\n",
        "df['Message'].apply(lambda x: len(x.split(' '))).sum()"
      ],
      "execution_count": 5,
      "outputs": [
        {
          "output_type": "execute_result",
          "data": {
            "text/plain": [
              "111964"
            ]
          },
          "metadata": {},
          "execution_count": 5
        }
      ]
    },
    {
      "cell_type": "code",
      "metadata": {
        "colab": {
          "base_uri": "https://localhost:8080/",
          "height": 373
        },
        "id": "GwZ_5eRYNOwt",
        "outputId": "9cd32bc4-8c9a-4a2b-8a1e-21ca79b28d07"
      },
      "source": [
        "cnt_pro = df['sentiment'].value_counts()\n",
        "plt.figure(figsize=(12,4))\n",
        "sns.barplot(cnt_pro.index, cnt_pro.values, alpha=0.8)\n",
        "plt.ylabel('Number of Occurrences', fontsize=12)\n",
        "plt.xlabel('sentiment', fontsize=12)\n",
        "plt.xticks(rotation=90)\n",
        "plt.show();"
      ],
      "execution_count": 6,
      "outputs": [
        {
          "output_type": "stream",
          "name": "stderr",
          "text": [
            "/usr/local/lib/python3.7/dist-packages/seaborn/_decorators.py:43: FutureWarning: Pass the following variables as keyword args: x, y. From version 0.12, the only valid positional argument will be `data`, and passing other arguments without an explicit keyword will result in an error or misinterpretation.\n",
            "  FutureWarning\n"
          ]
        },
        {
          "output_type": "display_data",
          "data": {
            "image/png": "[encoded data removed]",
            "text/plain": [
              "<Figure size 864x288 with 1 Axes>"
            ]
          },
          "metadata": {
            "needs_background": "light"
          }
        }
      ]
    },
    {
      "cell_type": "code",
      "metadata": {
        "colab": {
          "base_uri": "https://localhost:8080/"
        },
        "id": "ad0lgeglNT4H",
        "outputId": "5e02e4b3-d3d6-4731-849b-b8d8d16aa0ba"
      },
      "source": [
        "#Convert sting to numeric\n",
        "sentiment  = {'positive': 0,'neutral': 1,'negative':2} \n",
        "\n",
        "df.sentiment = [sentiment[item] for item in df.sentiment] \n",
        "print(df)"
      ],
      "execution_count": 7,
      "outputs": [
        {
          "output_type": "stream",
          "name": "stdout",
          "text": [
            "      sentiment                                            Message\n",
            "0             1  Technopolis plans to develop in stages an area...\n",
            "1             2  The international electronic industry company ...\n",
            "2             0  With the new production plant the company woul...\n",
            "3             0  According to the company 's updated strategy f...\n",
            "4             0  FINANCING OF ASPOCOMP 'S GROWTH Aspocomp is ag...\n",
            "...         ...                                                ...\n",
            "4840          2  LONDON MarketWatch -- Share prices ended lower...\n",
            "4841          1  Rinkuskiai 's beer sales fell by 6.5 per cent ...\n",
            "4842          2  Operating profit fell to EUR 35.4 mn from EUR ...\n",
            "4843          2  Net sales of the Paper segment decreased to EU...\n",
            "4844          2  Sales in Finland decreased by 10.5 % in Januar...\n",
            "\n",
            "[4845 rows x 2 columns]\n"
          ]
        }
      ]
    },
    {
      "cell_type": "code",
      "metadata": {
        "colab": {
          "base_uri": "https://localhost:8080/"
        },
        "id": "-ul9mX4ANZGm",
        "outputId": "d658b253-90db-4578-ab2c-226d27834c46"
      },
      "source": [
        "def print_message(index):\n",
        "    example = df[df.index == index][['sentiment', 'Message']].values[0]\n",
        "    if len(example) > 0:\n",
        "        print(example[0])\n",
        "        print('Message:', example[1])\n",
        "print_message(12)"
      ],
      "execution_count": 8,
      "outputs": [
        {
          "output_type": "stream",
          "name": "stdout",
          "text": [
            "0\n",
            "Message: Finnish Talentum reports its operating profit increased to EUR 20.5 mn in 2005 from EUR 9.3 mn in 2004 , and net sales totaled EUR 103.3 mn , up from EUR 96.4 mn .\n"
          ]
        }
      ]
    },
    {
      "cell_type": "code",
      "metadata": {
        "colab": {
          "base_uri": "https://localhost:8080/"
        },
        "id": "Zjv5YP_SNdJw",
        "outputId": "ec3ffd87-d785-49fa-b52b-7a64ac091c95"
      },
      "source": [
        "print_message(0)"
      ],
      "execution_count": 9,
      "outputs": [
        {
          "output_type": "stream",
          "name": "stdout",
          "text": [
            "1\n",
            "Message: Technopolis plans to develop in stages an area of no less than 100,000 square meters in order to host companies working in computer technologies and telecommunications , the statement said .\n"
          ]
        }
      ]
    },
    {
      "cell_type": "markdown",
      "metadata": {
        "id": "MndgzGyPZXbL"
      },
      "source": [
        "## Preprocessing"
      ]
    },
    {
      "cell_type": "code",
      "metadata": {
        "id": "qIvXA_isNkWu"
      },
      "source": [
        "from bs4 import BeautifulSoup\n",
        "def cleanText(text):\n",
        "    text = BeautifulSoup(text, \"lxml\").text\n",
        "    text = re.sub(r'\\|\\|\\|', r' ', text) \n",
        "    text = re.sub(r'http\\S+', r'<URL>', text)\n",
        "    text = text.lower()\n",
        "    text = text.replace('x', '')\n",
        "    return text\n",
        "df['Message'] = df['Message'].apply(cleanText)"
      ],
      "execution_count": 10,
      "outputs": []
    },
    {
      "cell_type": "markdown",
      "metadata": {
        "id": "EWXT0zwCZe9V"
      },
      "source": [
        "## NEW Preprocessing"
      ]
    },
    {
      "cell_type": "code",
      "metadata": {
        "id": "tvLaE0QvZa2G"
      },
      "source": [
        "from nltk.stem.porter import PorterStemmer\n",
        "\n",
        "corpus = []\n",
        "\n",
        "def process_text(message):\n",
        "  message = re.sub('[^a-zA-Z0-9]', ' ', message)\n",
        "  message = re.sub(r'http\\S+', r'<URL>', message)\n",
        "  message = message.lower()\n",
        "  message = message.split()\n",
        "\n",
        "  ps = PorterStemmer()\n",
        "  all_stopwords = stopwords.words('english')\n",
        "  all_stopwords.remove('not')\n",
        "  all_stopwords.append('investment')\n",
        "  message = [ps.stem(word) for word in message if not word in set(all_stopwords)]\n",
        "  message = ' '.join(message)\n",
        "  corpus.append(message)\n",
        "  return message\n",
        "\n",
        "df['Message'] = df['Message'].apply(process_text)"
      ],
      "execution_count": 10,
      "outputs": []
    },
    {
      "cell_type": "markdown",
      "metadata": {
        "id": "wQrlinm5ZsUR"
      },
      "source": [
        "## Feature Extraction"
      ]
    },
    {
      "cell_type": "code",
      "metadata": {
        "colab": {
          "base_uri": "https://localhost:8080/"
        },
        "id": "po0T0eOqNpq-",
        "outputId": "df16706a-d16f-473b-ddc8-61939be77f3a"
      },
      "source": [
        "train, test = train_test_split(df, test_size=0.000001 , random_state=42)\n",
        "\n",
        "def tokenize_text(text):\n",
        "    tokens = []\n",
        "    for sent in nltk.sent_tokenize(text):\n",
        "        for word in nltk.word_tokenize(sent):\n",
        "            #if len(word) < 0:\n",
        "            if len(word) <= 0:\n",
        "                continue\n",
        "            tokens.append(word.lower())\n",
        "    return tokens\n",
        "train_tagged = train.apply(\n",
        "    lambda r: TaggedDocument(words=tokenize_text(r['Message']), tags=[r.sentiment]), axis=1)\n",
        "test_tagged = test.apply(\n",
        "    lambda r: TaggedDocument(words=tokenize_text(r['Message']), tags=[r.sentiment]), axis=1)\n",
        "\n",
        "# The maximum number of words to be used. (most frequent)\n",
        "max_fatures = 500000\n",
        "\n",
        "# Max number of words in each complaint.\n",
        "MAX_SEQUENCE_LENGTH = 50\n",
        "\n",
        "#tokenizer = Tokenizer(num_words=max_fatures, split=' ')\n",
        "tokenizer = Tokenizer(num_words=max_fatures, split=' ', filters='!\"#$%&()*+,-./:;<=>?@[\\]^_`{|}~', lower=True)\n",
        "tokenizer.fit_on_texts(df['Message'].values)\n",
        "X = tokenizer.texts_to_sequences(df['Message'].values)\n",
        "X = pad_sequences(X)\n",
        "print('Found %s unique tokens.' % len(X))"
      ],
      "execution_count": 11,
      "outputs": [
        {
          "output_type": "stream",
          "name": "stdout",
          "text": [
            "Found 4845 unique tokens.\n"
          ]
        }
      ]
    },
    {
      "cell_type": "code",
      "metadata": {
        "colab": {
          "base_uri": "https://localhost:8080/"
        },
        "id": "yT2PbAEfPFCw",
        "outputId": "1914ab72-e829-431f-bcd3-e4ef4a0105a1"
      },
      "source": [
        "X = tokenizer.texts_to_sequences(df['Message'].values)\n",
        "X = pad_sequences(X, maxlen=MAX_SEQUENCE_LENGTH)\n",
        "print('Shape of data tensor:', X.shape)"
      ],
      "execution_count": 12,
      "outputs": [
        {
          "output_type": "stream",
          "name": "stdout",
          "text": [
            "Shape of data tensor: (4845, 50)\n"
          ]
        }
      ]
    },
    {
      "cell_type": "code",
      "metadata": {
        "colab": {
          "base_uri": "https://localhost:8080/"
        },
        "id": "aLoWOarbPHE1",
        "outputId": "0a0de8a5-e93d-4260-d7c6-377f0146b3d7"
      },
      "source": [
        "#train_tagged.values[2173]\n",
        "train_tagged.values"
      ],
      "execution_count": 13,
      "outputs": [
        {
          "output_type": "execute_result",
          "data": {
            "text/plain": [
              "array([TaggedDocument(words=['upm-kymmene', 'has', 'generated', 'four', 'consecutive', 'quarters', 'of', 'positive', 'free', 'cash', 'flow', '.'], tags=[0]),\n",
              "       TaggedDocument(words=['in', 'the', 'method', 'the', 'smelt', 'spouts', '2', 'are', 'separated', 'from', 'the', 'working', 'area', '6', 'by', 'a', 'shielding', 'wall', '8', ',', '10', 'arranged', 'movable', 'in', 'relation', 'to', 'the', 'smelt', 'spouts', '.'], tags=[1]),\n",
              "       TaggedDocument(words=['``', 'that', \"'s\", 'a', 'very', 'high', 'figure', 'on', 'the', 'european', 'scale', ',', \"''\", 'noop', 'said', ',', 'recalling', 'however', 'that', 'this', 'also', 'includes', 'beer', 'bought', 'by', 'finnish', 'tourists', '.'], tags=[1]),\n",
              "       ...,\n",
              "       TaggedDocument(words=['proha', 'plc', '(', 'euronet', ':7327', ')', 'announced', 'today', '(', '19', 'may', ')', 'that', 'its', 'fully-owned', 'subsidiary', ',', 'safran', 'software', 'solutions', 'as', ',', 'has', 'agreed', 'to', 'sell', 'its', '49', '%', 'share', 'of', 'safran', 'north', 'america', 'llc', 'to', 'a', 'sna', 'holding', 'as', ',', 'an', 'investment', 'group', 'based', 'in', 'norway', '.'], tags=[1]),\n",
              "       TaggedDocument(words=['the', 'building', 'will', 'house', 'product', 'development', 'and', 'test', 'laboratories', '.'], tags=[1]),\n",
              "       TaggedDocument(words=['(', 'adp', 'news', ')', '-', 'oct', '31', ',', '2008', '-', 'finnish', 'food', 'company', 'raisio', 'oyj', '(', 'om', ':', 'raivv', ')', 'said', 'today', 'that', 'its', 'net', 'profit', 'jumped', 'to', 'eur', '16.4', 'million', '(', 'usd', '20.9', 'm', ')', 'for', 'the', 'first', 'nine', 'months', 'of', '2008', 'from', 'eur', '1.1', 'million', 'for', 'the', 'same', 'period', 'of', '2'], tags=[0])],\n",
              "      dtype=object)"
            ]
          },
          "metadata": {},
          "execution_count": 13
        }
      ]
    },
    {
      "cell_type": "code",
      "metadata": {
        "colab": {
          "base_uri": "https://localhost:8080/"
        },
        "id": "F3ktMn35PRdg",
        "outputId": "e2617f7c-d11a-4f79-8745-f3e760ee2e74"
      },
      "source": [
        "d2v_model = Doc2Vec(dm=1, dm_mean=1, size=20, window=8, min_count=1, workers=1, alpha=0.065, min_alpha=0.065)\n",
        "d2v_model.build_vocab([x for x in tqdm(train_tagged.values)])"
      ],
      "execution_count": 14,
      "outputs": [
        {
          "output_type": "stream",
          "name": "stderr",
          "text": [
            "/usr/local/lib/python3.7/dist-packages/gensim/models/doc2vec.py:570: UserWarning: The parameter `size` is deprecated, will be removed in 4.0.0, use `vector_size` instead.\n",
            "  warnings.warn(\"The parameter `size` is deprecated, will be removed in 4.0.0, use `vector_size` instead.\")\n",
            "100%|██████████| 4844/4844 [00:00<00:00, 742560.89it/s]\n"
          ]
        }
      ]
    },
    {
      "cell_type": "code",
      "metadata": {
        "colab": {
          "base_uri": "https://localhost:8080/"
        },
        "id": "_hOJp4VaPf3m",
        "outputId": "fd7d5e04-8d3a-4f2f-c617-acacc71920f0"
      },
      "source": [
        "%%time\n",
        "for epoch in range(30):\n",
        "    d2v_model.train(utils.shuffle([x for x in tqdm(train_tagged.values)]), total_examples=len(train_tagged.values), epochs=1)\n",
        "    d2v_model.alpha -= 0.002\n",
        "    d2v_model.min_alpha = d2v_model.alpha"
      ],
      "execution_count": 15,
      "outputs": [
        {
          "output_type": "stream",
          "name": "stderr",
          "text": [
            "100%|██████████| 4844/4844 [00:00<00:00, 1113210.70it/s]\n",
            "100%|██████████| 4844/4844 [00:00<00:00, 1448022.85it/s]\n",
            "100%|██████████| 4844/4844 [00:00<00:00, 2771032.27it/s]\n",
            "100%|██████████| 4844/4844 [00:00<00:00, 642786.91it/s]\n",
            "100%|██████████| 4844/4844 [00:00<00:00, 2001892.66it/s]\n",
            "100%|██████████| 4844/4844 [00:00<00:00, 1198443.26it/s]\n",
            "100%|██████████| 4844/4844 [00:00<00:00, 2328619.89it/s]\n",
            "100%|██████████| 4844/4844 [00:00<00:00, 1326881.44it/s]\n",
            "100%|██████████| 4844/4844 [00:00<00:00, 2579962.99it/s]\n",
            "100%|██████████| 4844/4844 [00:00<00:00, 2421309.57it/s]\n",
            "100%|██████████| 4844/4844 [00:00<00:00, 600940.83it/s]\n",
            "100%|██████████| 4844/4844 [00:00<00:00, 2606441.13it/s]\n",
            "100%|██████████| 4844/4844 [00:00<00:00, 2513883.76it/s]\n",
            "100%|██████████| 4844/4844 [00:00<00:00, 2622590.50it/s]\n",
            "100%|██████████| 4844/4844 [00:00<00:00, 1234788.41it/s]\n",
            "100%|██████████| 4844/4844 [00:00<00:00, 1096153.69it/s]\n",
            "100%|██████████| 4844/4844 [00:00<00:00, 950112.63it/s]\n",
            "100%|██████████| 4844/4844 [00:00<00:00, 2605772.55it/s]\n",
            "100%|██████████| 4844/4844 [00:00<00:00, 2540603.80it/s]\n",
            "100%|██████████| 4844/4844 [00:00<00:00, 1526920.83it/s]\n",
            "100%|██████████| 4844/4844 [00:00<00:00, 2545697.10it/s]\n",
            "100%|██████████| 4844/4844 [00:00<00:00, 2495358.46it/s]\n",
            "100%|██████████| 4844/4844 [00:00<00:00, 2584886.59it/s]\n",
            "100%|██████████| 4844/4844 [00:00<00:00, 866738.13it/s]\n",
            "100%|██████████| 4844/4844 [00:00<00:00, 2600103.48it/s]\n",
            "100%|██████████| 4844/4844 [00:00<00:00, 1373062.69it/s]\n",
            "100%|██████████| 4844/4844 [00:00<00:00, 1219959.68it/s]\n",
            "100%|██████████| 4844/4844 [00:00<00:00, 1167521.47it/s]\n",
            "100%|██████████| 4844/4844 [00:00<00:00, 1317417.23it/s]\n",
            "100%|██████████| 4844/4844 [00:00<00:00, 2496891.80it/s]\n"
          ]
        },
        {
          "output_type": "stream",
          "name": "stdout",
          "text": [
            "CPU times: user 11.5 s, sys: 114 ms, total: 11.7 s\n",
            "Wall time: 11.9 s\n"
          ]
        }
      ]
    },
    {
      "cell_type": "code",
      "metadata": {
        "colab": {
          "base_uri": "https://localhost:8080/"
        },
        "id": "vl5__NsiPlH3",
        "outputId": "7243e87a-065c-4a89-ff1e-fb1d812d9144"
      },
      "source": [
        "print(d2v_model)"
      ],
      "execution_count": 16,
      "outputs": [
        {
          "output_type": "stream",
          "name": "stdout",
          "text": [
            "Doc2Vec(dm/m,d20,n5,w8,s0.001)\n"
          ]
        }
      ]
    },
    {
      "cell_type": "code",
      "metadata": {
        "colab": {
          "base_uri": "https://localhost:8080/"
        },
        "id": "E7dtt3VUPsid",
        "outputId": "b0afce93-a83a-4f3c-92a3-51de75c617fd"
      },
      "source": [
        "len(d2v_model.wv.vocab)"
      ],
      "execution_count": 17,
      "outputs": [
        {
          "output_type": "execute_result",
          "data": {
            "text/plain": [
              "11683"
            ]
          },
          "metadata": {},
          "execution_count": 17
        }
      ]
    },
    {
      "cell_type": "code",
      "metadata": {
        "id": "X56WKvrNPw4G"
      },
      "source": [
        "# save the vectors in a new matrix\n",
        "embedding_matrix = np.zeros((len(d2v_model.wv.vocab)+ 1, 20))\n",
        "\n",
        "for i, vec in enumerate(d2v_model.docvecs.vectors_docs):\n",
        "    while i in vec <= 1000:\n",
        "    #print(i)\n",
        "    #print(model.docvecs)\n",
        "          embedding_matrix[i]=vec\n",
        "    #print(vec)\n",
        "    #print(vec[i])"
      ],
      "execution_count": 18,
      "outputs": []
    },
    {
      "cell_type": "code",
      "metadata": {
        "colab": {
          "base_uri": "https://localhost:8080/"
        },
        "id": "SRj-HfjIP269",
        "outputId": "fa20983c-4082-42aa-ab56-d85e6f3c4f85"
      },
      "source": [
        "d2v_model.wv.most_similar(positive=['profit'], topn=10)"
      ],
      "execution_count": 19,
      "outputs": [
        {
          "output_type": "execute_result",
          "data": {
            "text/plain": [
              "[('loss', 0.854253351688385),\n",
              " ('profits', 0.8106234669685364),\n",
              " ('income', 0.7724557518959045),\n",
              " ('pcmag.com', 0.7400615215301514),\n",
              " ('originally', 0.7156936526298523),\n",
              " ('koduetra', 0.7154158353805542),\n",
              " ('chopra', 0.7090773582458496),\n",
              " ('sales', 0.7072404026985168),\n",
              " ('68.3', 0.7027767300605774),\n",
              " ('satama', 0.6854219436645508)]"
            ]
          },
          "metadata": {},
          "execution_count": 19
        }
      ]
    },
    {
      "cell_type": "code",
      "metadata": {
        "colab": {
          "base_uri": "https://localhost:8080/"
        },
        "id": "d2YDJK05P6q6",
        "outputId": "aa73f586-500b-45f7-b033-19774f37a12d"
      },
      "source": [
        "d2v_model.wv.most_similar(positive=['invest'], topn=10)"
      ],
      "execution_count": 20,
      "outputs": [
        {
          "output_type": "execute_result",
          "data": {
            "text/plain": [
              "[('kuopio', 0.7305574417114258),\n",
              " ('rotterdam', 0.7203152775764465),\n",
              " ('ease', 0.7069517374038696),\n",
              " ('60-70', 0.6892396211624146),\n",
              " ('area', 0.686728835105896),\n",
              " ('manturovo', 0.6815937161445618),\n",
              " ('1997', 0.6731715202331543),\n",
              " ('bovine', 0.6710584163665771),\n",
              " ('land', 0.6655532121658325),\n",
              " ('adapt', 0.6589417457580566)]"
            ]
          },
          "metadata": {},
          "execution_count": 20
        }
      ]
    },
    {
      "cell_type": "code",
      "metadata": {
        "colab": {
          "base_uri": "https://localhost:8080/"
        },
        "id": "cIwTFa93P_71",
        "outputId": "29672e53-234e-4729-d2f0-02c9e8d8f4cc"
      },
      "source": [
        "d2v_model.wv.most_similar(positive=['broke'], topn=10)"
      ],
      "execution_count": 21,
      "outputs": [
        {
          "output_type": "execute_result",
          "data": {
            "text/plain": [
              "[('mold', 0.9859764575958252),\n",
              " ('warmly', 0.886023998260498),\n",
              " (\"'m\", 0.8599976897239685),\n",
              " ('my', 0.8526664972305298),\n",
              " ('forward', 0.8405531048774719),\n",
              " ('comfortably', 0.8293263912200928),\n",
              " ('rop', 0.8242896795272827),\n",
              " ('gather', 0.8234997987747192),\n",
              " ('macro-economic', 0.822793185710907),\n",
              " ('paycheck', 0.8224278092384338)]"
            ]
          },
          "metadata": {},
          "execution_count": 21
        }
      ]
    },
    {
      "cell_type": "code",
      "metadata": {
        "id": "LfWWcal79Y3B",
        "colab": {
          "base_uri": "https://localhost:8080/"
        },
        "outputId": "65b5ea6e-1126-467b-8601-ae923eec63b0"
      },
      "source": [
        "print(embedding_matrix.shape)"
      ],
      "execution_count": 22,
      "outputs": [
        {
          "output_type": "stream",
          "name": "stdout",
          "text": [
            "(11684, 20)\n"
          ]
        }
      ]
    },
    {
      "cell_type": "code",
      "metadata": {
        "id": "m3yJffb9QEGV"
      },
      "source": [
        "from sklearn.manifold import TSNE\n",
        "import matplotlib.pyplot as plt\n",
        "%matplotlib inline\n",
        "\n",
        "def tsne_plot(model):\n",
        "    \"Creates and TSNE model and plots it\"\n",
        "    labels = []\n",
        "    tokens = []\n",
        "\n",
        "    for word in d2v_model.wv.vocab:\n",
        "        tokens.append(model[word])\n",
        "        labels.append(word)\n",
        "    \n",
        "    tsne_model = TSNE(perplexity=40, n_components=2, init='pca', n_iter=250, random_state=23)\n",
        "    new_values = tsne_model.fit_transform(tokens)\n",
        "\n",
        "    x = []\n",
        "    y = []\n",
        "    for value in new_values:\n",
        "        x.append(value[0])\n",
        "        y.append(value[1])\n",
        "        \n",
        "    plt.figure(figsize=(16, 16)) \n",
        "    for i in range(len(x)):\n",
        "        plt.scatter(x[i],y[i])\n",
        "        plt.annotate(labels[i],\n",
        "                     xy=(x[i], y[i]),\n",
        "                     xytext=(5, 2),\n",
        "                     textcoords='offset points',\n",
        "                     ha='right',\n",
        "                     va='bottom')\n",
        "    plt.show()"
      ],
      "execution_count": 23,
      "outputs": []
    },
    {
      "cell_type": "code",
      "metadata": {
        "id": "Xnn9eTDgSHTT"
      },
      "source": [
        "# tsne_plot(d2v_model)"
      ],
      "execution_count": 24,
      "outputs": []
    },
    {
      "cell_type": "markdown",
      "metadata": {
        "id": "oYguQeAaZyBZ"
      },
      "source": [
        "## Model Building"
      ]
    },
    {
      "cell_type": "code",
      "metadata": {
        "colab": {
          "base_uri": "https://localhost:8080/"
        },
        "id": "FyQXzlxCHskn",
        "outputId": "0384b57e-10b2-4d10-a4ac-3b1b1c036180"
      },
      "source": [
        "from keras.models import Sequential\n",
        "from keras.layers import LSTM, Dense, Embedding\n",
        "\n",
        "# init layer\n",
        "model = Sequential()\n",
        "\n",
        "# emmbed word vectors\n",
        "model.add(Embedding(len(d2v_model.wv.vocab)+1,20,input_length=X.shape[1],weights=[embedding_matrix],trainable=True))\n",
        "\n",
        "# learn the correlations\n",
        "def split_input(sequence):\n",
        "     return sequence[:-1], tf.reshape(sequence[1:], (-1,1))\n",
        "model.add(LSTM(50,return_sequences=False))\n",
        "model.add(Dense(3,activation=\"softmax\"))\n",
        "\n",
        "# output model skeleton\n",
        "model.summary()\n",
        "model.compile(optimizer=\"adam\",loss=\"binary_crossentropy\",metrics=['acc'])"
      ],
      "execution_count": 25,
      "outputs": [
        {
          "output_type": "stream",
          "name": "stdout",
          "text": [
            "Model: \"sequential\"\n",
            "_________________________________________________________________\n",
            " Layer (type)                Output Shape              Param #   \n",
            "=================================================================\n",
            " embedding (Embedding)       (None, 50, 20)            233680    \n",
            "                                                                 \n",
            " lstm (LSTM)                 (None, 50)                14200     \n",
            "                                                                 \n",
            " dense (Dense)               (None, 3)                 153       \n",
            "                                                                 \n",
            "=================================================================\n",
            "Total params: 248,033\n",
            "Trainable params: 248,033\n",
            "Non-trainable params: 0\n",
            "_________________________________________________________________\n"
          ]
        }
      ]
    },
    {
      "cell_type": "code",
      "metadata": {
        "colab": {
          "base_uri": "https://localhost:8080/",
          "height": 0
        },
        "id": "hNmAp4ErSUW_",
        "outputId": "e4d914c4-ec01-4ec3-f362-98cf2846575b"
      },
      "source": [
        "from keras.utils.vis_utils import plot_model\n",
        "plot_model(model, to_file='model.png')"
      ],
      "execution_count": 26,
      "outputs": [
        {
          "output_type": "execute_result",
          "data": {
            "image/png": "[encoded data removed]",
            "text/plain": [
              "<IPython.core.display.Image object>"
            ]
          },
          "metadata": {},
          "execution_count": 26
        }
      ]
    },
    {
      "cell_type": "markdown",
      "metadata": {
        "id": "YyUi7_sGZ0_c"
      },
      "source": [
        "## Testing and Training"
      ]
    },
    {
      "cell_type": "code",
      "metadata": {
        "colab": {
          "base_uri": "https://localhost:8080/"
        },
        "id": "xdb8SQzGSmB2",
        "outputId": "d6433135-e1c3-491e-8c87-6ec65bf3df7f"
      },
      "source": [
        "Y = pd.get_dummies(df['sentiment']).values\n",
        "X_train, X_test, Y_train, Y_test = train_test_split(X,Y, test_size = 0.15, random_state = 42)\n",
        "print(X_train.shape,Y_train.shape)\n",
        "print(X_test.shape,Y_test.shape)"
      ],
      "execution_count": 27,
      "outputs": [
        {
          "output_type": "stream",
          "name": "stdout",
          "text": [
            "(4118, 50) (4118, 3)\n",
            "(727, 50) (727, 3)\n"
          ]
        }
      ]
    },
    {
      "cell_type": "code",
      "metadata": {
        "colab": {
          "base_uri": "https://localhost:8080/"
        },
        "id": "lejg5rFPStfr",
        "outputId": "7be25442-5d3d-49c7-adb5-9efe9e5a124a"
      },
      "source": [
        "batch_size = 32\n",
        "history=model.fit(X_train, Y_train, epochs =50, batch_size=batch_size, verbose = 2)"
      ],
      "execution_count": 28,
      "outputs": [
        {
          "output_type": "stream",
          "name": "stdout",
          "text": [
            "Epoch 1/50\n",
            "129/129 - 5s - loss: 0.5502 - acc: 0.6003 - 5s/epoch - 42ms/step\n",
            "Epoch 2/50\n",
            "129/129 - 3s - loss: 0.4134 - acc: 0.7050 - 3s/epoch - 26ms/step\n",
            "Epoch 3/50\n",
            "129/129 - 3s - loss: 0.3011 - acc: 0.7919 - 3s/epoch - 26ms/step\n",
            "Epoch 4/50\n",
            "129/129 - 3s - loss: 0.2409 - acc: 0.8322 - 3s/epoch - 26ms/step\n",
            "Epoch 5/50\n",
            "129/129 - 3s - loss: 0.2035 - acc: 0.8526 - 3s/epoch - 25ms/step\n",
            "Epoch 6/50\n",
            "129/129 - 3s - loss: 0.1523 - acc: 0.9068 - 3s/epoch - 25ms/step\n",
            "Epoch 7/50\n",
            "129/129 - 3s - loss: 0.0987 - acc: 0.9536 - 3s/epoch - 26ms/step\n",
            "Epoch 8/50\n",
            "129/129 - 3s - loss: 0.0659 - acc: 0.9718 - 3s/epoch - 26ms/step\n",
            "Epoch 9/50\n",
            "129/129 - 3s - loss: 0.0454 - acc: 0.9813 - 3s/epoch - 26ms/step\n",
            "Epoch 10/50\n",
            "129/129 - 3s - loss: 0.0416 - acc: 0.9820 - 3s/epoch - 26ms/step\n",
            "Epoch 11/50\n",
            "129/129 - 3s - loss: 0.0355 - acc: 0.9854 - 3s/epoch - 26ms/step\n",
            "Epoch 12/50\n",
            "129/129 - 3s - loss: 0.0282 - acc: 0.9886 - 3s/epoch - 26ms/step\n",
            "Epoch 13/50\n",
            "129/129 - 3s - loss: 0.0231 - acc: 0.9910 - 3s/epoch - 26ms/step\n",
            "Epoch 14/50\n",
            "129/129 - 3s - loss: 0.0230 - acc: 0.9910 - 3s/epoch - 25ms/step\n",
            "Epoch 15/50\n",
            "129/129 - 3s - loss: 0.0187 - acc: 0.9925 - 3s/epoch - 26ms/step\n",
            "Epoch 16/50\n",
            "129/129 - 3s - loss: 0.0152 - acc: 0.9942 - 3s/epoch - 25ms/step\n",
            "Epoch 17/50\n",
            "129/129 - 3s - loss: 0.0169 - acc: 0.9925 - 3s/epoch - 25ms/step\n",
            "Epoch 18/50\n",
            "129/129 - 3s - loss: 0.0132 - acc: 0.9949 - 3s/epoch - 25ms/step\n",
            "Epoch 19/50\n",
            "129/129 - 3s - loss: 0.0091 - acc: 0.9968 - 3s/epoch - 26ms/step\n",
            "Epoch 20/50\n",
            "129/129 - 3s - loss: 0.0152 - acc: 0.9937 - 3s/epoch - 25ms/step\n",
            "Epoch 21/50\n",
            "129/129 - 3s - loss: 0.0143 - acc: 0.9930 - 3s/epoch - 25ms/step\n",
            "Epoch 22/50\n",
            "129/129 - 3s - loss: 0.0110 - acc: 0.9942 - 3s/epoch - 25ms/step\n",
            "Epoch 23/50\n",
            "129/129 - 3s - loss: 0.0083 - acc: 0.9961 - 3s/epoch - 26ms/step\n",
            "Epoch 24/50\n",
            "129/129 - 3s - loss: 0.0055 - acc: 0.9976 - 3s/epoch - 25ms/step\n",
            "Epoch 25/50\n",
            "129/129 - 3s - loss: 0.0045 - acc: 0.9976 - 3s/epoch - 25ms/step\n",
            "Epoch 26/50\n",
            "129/129 - 3s - loss: 0.0169 - acc: 0.9925 - 3s/epoch - 26ms/step\n",
            "Epoch 27/50\n",
            "129/129 - 3s - loss: 0.0097 - acc: 0.9956 - 3s/epoch - 26ms/step\n",
            "Epoch 28/50\n",
            "129/129 - 3s - loss: 0.0063 - acc: 0.9973 - 3s/epoch - 26ms/step\n",
            "Epoch 29/50\n",
            "129/129 - 3s - loss: 0.0061 - acc: 0.9966 - 3s/epoch - 26ms/step\n",
            "Epoch 30/50\n",
            "129/129 - 3s - loss: 0.0043 - acc: 0.9988 - 3s/epoch - 26ms/step\n",
            "Epoch 31/50\n",
            "129/129 - 3s - loss: 0.0058 - acc: 0.9966 - 3s/epoch - 26ms/step\n",
            "Epoch 32/50\n",
            "129/129 - 3s - loss: 0.0046 - acc: 0.9981 - 3s/epoch - 26ms/step\n",
            "Epoch 33/50\n",
            "129/129 - 3s - loss: 0.0034 - acc: 0.9983 - 3s/epoch - 26ms/step\n",
            "Epoch 34/50\n",
            "129/129 - 3s - loss: 0.0035 - acc: 0.9981 - 3s/epoch - 26ms/step\n",
            "Epoch 35/50\n",
            "129/129 - 3s - loss: 0.0031 - acc: 0.9988 - 3s/epoch - 26ms/step\n",
            "Epoch 36/50\n",
            "129/129 - 3s - loss: 0.0042 - acc: 0.9983 - 3s/epoch - 26ms/step\n",
            "Epoch 37/50\n",
            "129/129 - 3s - loss: 0.0030 - acc: 0.9981 - 3s/epoch - 25ms/step\n",
            "Epoch 38/50\n",
            "129/129 - 3s - loss: 0.0161 - acc: 0.9915 - 3s/epoch - 26ms/step\n",
            "Epoch 39/50\n",
            "129/129 - 3s - loss: 0.0157 - acc: 0.9922 - 3s/epoch - 26ms/step\n",
            "Epoch 40/50\n",
            "129/129 - 3s - loss: 0.0098 - acc: 0.9944 - 3s/epoch - 26ms/step\n",
            "Epoch 41/50\n",
            "129/129 - 3s - loss: 0.0063 - acc: 0.9964 - 3s/epoch - 26ms/step\n",
            "Epoch 42/50\n",
            "129/129 - 3s - loss: 0.0043 - acc: 0.9978 - 3s/epoch - 26ms/step\n",
            "Epoch 43/50\n",
            "129/129 - 3s - loss: 0.0033 - acc: 0.9976 - 3s/epoch - 26ms/step\n",
            "Epoch 44/50\n",
            "129/129 - 3s - loss: 0.0030 - acc: 0.9983 - 3s/epoch - 26ms/step\n",
            "Epoch 45/50\n",
            "129/129 - 3s - loss: 0.0026 - acc: 0.9985 - 3s/epoch - 25ms/step\n",
            "Epoch 46/50\n",
            "129/129 - 3s - loss: 0.0026 - acc: 0.9985 - 3s/epoch - 25ms/step\n",
            "Epoch 47/50\n",
            "129/129 - 3s - loss: 0.0024 - acc: 0.9985 - 3s/epoch - 25ms/step\n",
            "Epoch 48/50\n",
            "129/129 - 3s - loss: 0.0031 - acc: 0.9978 - 3s/epoch - 26ms/step\n",
            "Epoch 49/50\n",
            "129/129 - 3s - loss: 0.0055 - acc: 0.9978 - 3s/epoch - 26ms/step\n",
            "Epoch 50/50\n",
            "129/129 - 3s - loss: 0.0083 - acc: 0.9961 - 3s/epoch - 26ms/step\n"
          ]
        }
      ]
    },
    {
      "cell_type": "code",
      "metadata": {
        "colab": {
          "base_uri": "https://localhost:8080/",
          "height": 590
        },
        "id": "nGbDCiFATdG6",
        "outputId": "25ddfda5-a90e-4ff3-84de-db08c60b1333"
      },
      "source": [
        "plt.plot(history.history['acc'])\n",
        "plt.title('model accuracy')\n",
        "plt.ylabel('acc')\n",
        "plt.xlabel('epochs')\n",
        "plt.legend(['train', 'test'], loc='upper left')\n",
        "plt.show()\n",
        "plt.savefig('model_accuracy.png')\n",
        "\n",
        "# summarize history for loss\n",
        "plt.plot(history.history['loss'])\n",
        "#plt.plot(history.history['val_loss'])\n",
        "plt.title('model loss')\n",
        "plt.ylabel('loss')\n",
        "plt.xlabel('epochs')\n",
        "plt.legend(['train', 'test'], loc='upper left')\n",
        "plt.show()\n",
        "plt.savefig('model_loss.png')"
      ],
      "execution_count": 29,
      "outputs": [
        {
          "output_type": "display_data",
          "data": {
            "image/png": "[encoded data removed]",
            "text/plain": [
              "<Figure size 432x288 with 1 Axes>"
            ]
          },
          "metadata": {
            "needs_background": "light"
          }
        },
        {
          "output_type": "display_data",
          "data": {
            "image/png": "[encoded data removed]",
            "text/plain": [
              "<Figure size 432x288 with 1 Axes>"
            ]
          },
          "metadata": {
            "needs_background": "light"
          }
        },
        {
          "output_type": "display_data",
          "data": {
            "text/plain": [
              "<Figure size 432x288 with 0 Axes>"
            ]
          },
          "metadata": {}
        }
      ]
    },
    {
      "cell_type": "code",
      "metadata": {
        "colab": {
          "base_uri": "https://localhost:8080/"
        },
        "id": "DithSwGzUpqU",
        "outputId": "3ed062b7-9b22-4880-f851-c5f18778b714"
      },
      "source": [
        "# evaluate the model\n",
        "_, train_acc = model.evaluate(X_train, Y_train, verbose=2)\n",
        "_, test_acc = model.evaluate(X_test, Y_test, verbose=2)\n",
        "print('Train: %.3f, Test: %.4f' % (train_acc, test_acc))"
      ],
      "execution_count": 30,
      "outputs": [
        {
          "output_type": "stream",
          "name": "stdout",
          "text": [
            "129/129 - 1s - loss: 0.0064 - acc: 0.9976 - 1s/epoch - 11ms/step\n",
            "23/23 - 0s - loss: 1.1752 - acc: 0.7070 - 171ms/epoch - 7ms/step\n",
            "Train: 0.998, Test: 0.7070\n"
          ]
        }
      ]
    },
    {
      "cell_type": "markdown",
      "metadata": {
        "id": "BEk7ChCeZ6oB"
      },
      "source": [
        "## Evaluation"
      ]
    },
    {
      "cell_type": "code",
      "metadata": {
        "colab": {
          "base_uri": "https://localhost:8080/"
        },
        "id": "677xm2dvUyK4",
        "outputId": "675bae91-2888-4bbd-d057-ca53a2999c4e"
      },
      "source": [
        "# predict probabilities for test set\n",
        "yhat_probs = model.predict(X_test, verbose=0)\n",
        "print(yhat_probs)\n",
        "# predict crisp classes for test set\n",
        "# yhat_classes = model.predict_classes(X_test, verbose=0)\n",
        "\n",
        "\n",
        "predict_x=model.predict(X_test) \n",
        "yhat_classes=np.argmax(predict_x,axis=1)\n",
        "\n",
        "print(yhat_classes)\n",
        "# reduce to 1d array\n",
        "#yhat_probs = yhat_probs[:, 0]\n",
        "#yhat_classes = yhat_classes[:, 1"
      ],
      "execution_count": 31,
      "outputs": [
        {
          "output_type": "stream",
          "name": "stdout",
          "text": [
            "[[7.2994662e-05 9.9987340e-01 5.3648699e-05]\n",
            " [9.9999118e-01 4.1161902e-06 4.6753971e-06]\n",
            " [3.0553647e-04 9.9944466e-01 2.4981907e-04]\n",
            " ...\n",
            " [9.9999356e-01 4.1510166e-06 2.2412007e-06]\n",
            " [2.2504091e-05 9.9995923e-01 1.8210574e-05]\n",
            " [9.9999988e-01 1.2086440e-07 2.8529424e-08]]\n",
            "[1 0 1 0 1 1 1 1 1 1 1 1 0 2 1 1 1 1 0 1 1 1 0 0 1 0 1 0 0 2 0 1 1 2 1 0 2\n",
            " 0 1 1 0 1 0 0 0 1 1 1 0 1 2 1 0 2 1 0 1 1 0 1 0 0 0 0 1 1 1 1 0 0 1 1 0 1\n",
            " 0 1 1 1 1 0 1 1 0 1 0 0 1 0 1 0 0 1 1 2 1 1 0 1 0 1 2 1 1 2 0 1 1 1 2 1 1\n",
            " 1 2 1 1 0 0 0 0 0 0 0 0 1 1 1 0 1 0 1 0 1 2 1 0 1 0 1 1 1 1 1 1 0 1 1 2 1\n",
            " 2 1 1 0 1 2 1 0 0 1 2 2 0 1 1 0 1 0 1 2 1 0 1 0 0 1 0 2 0 0 1 0 0 0 1 1 1\n",
            " 2 0 0 1 1 1 0 0 1 2 0 0 1 1 1 1 1 1 1 1 0 1 1 0 1 0 1 1 1 1 1 1 2 1 0 0 1\n",
            " 1 1 1 1 1 0 1 1 0 0 0 1 2 0 1 1 1 1 1 1 1 0 0 1 1 1 1 0 0 1 0 1 2 0 1 1 1\n",
            " 1 0 0 1 0 2 2 0 1 1 1 1 1 2 0 1 1 1 0 0 0 0 1 1 1 1 1 1 1 0 1 0 2 0 1 2 1\n",
            " 1 2 0 1 0 1 1 1 1 2 1 0 1 0 1 2 0 1 1 1 1 1 1 0 1 2 0 1 0 1 1 0 1 1 1 1 1\n",
            " 1 0 1 1 0 1 1 0 1 1 0 1 0 1 0 1 1 0 1 0 1 1 1 0 1 2 0 1 1 0 1 0 0 0 0 1 0\n",
            " 0 0 1 1 1 1 1 1 0 2 0 0 2 1 0 1 0 1 0 1 0 1 1 0 1 2 1 1 1 0 0 1 1 1 2 2 1\n",
            " 0 1 1 0 1 1 0 1 2 0 1 1 0 1 2 0 2 2 1 1 1 0 1 0 0 1 1 1 0 0 0 2 1 1 0 1 1\n",
            " 0 1 1 0 0 2 1 2 1 0 1 0 2 0 1 0 1 0 1 1 1 0 1 0 1 1 1 1 1 1 1 1 1 0 1 0 1\n",
            " 0 1 0 0 1 1 1 0 1 1 1 1 1 1 0 1 1 1 0 0 1 1 0 0 0 1 1 1 1 0 0 0 1 0 0 0 0\n",
            " 2 0 0 1 0 1 1 1 1 0 1 1 1 1 0 1 1 1 1 1 1 1 1 1 1 0 1 1 1 0 2 1 1 1 1 1 1\n",
            " 0 2 0 1 2 1 0 2 0 1 0 1 0 2 1 1 1 1 0 0 1 1 1 2 1 1 1 0 1 1 0 1 1 0 1 1 1\n",
            " 0 0 0 1 1 1 2 1 0 1 0 1 2 0 2 1 2 1 0 0 1 0 1 1 0 2 1 0 0 2 1 1 1 1 0 1 0\n",
            " 1 1 0 1 1 0 1 1 0 1 1 2 1 1 1 1 1 0 1 1 2 0 0 0 0 1 0 0 0 1 1 0 1 1 1 1 2\n",
            " 1 1 1 0 1 1 1 1 0 1 1 1 0 2 1 1 1 1 1 1 1 0 0 0 1 0 1 1 0 2 1 1 1 1 1 0 1\n",
            " 2 1 0 1 1 1 0 1 2 1 1 1 1 1 0 0 0 1 1 1 1 0 1 0]\n"
          ]
        }
      ]
    },
    {
      "cell_type": "code",
      "metadata": {
        "colab": {
          "base_uri": "https://localhost:8080/"
        },
        "id": "SK72D4NnW7MC",
        "outputId": "efa20906-ce40-4dbe-fe09-3330c9b69a9d"
      },
      "source": [
        "import numpy as np\n",
        "rounded_labels=np.argmax(Y_test, axis=1)\n",
        "rounded_labels"
      ],
      "execution_count": 38,
      "outputs": [
        {
          "output_type": "execute_result",
          "data": {
            "text/plain": [
              "array([1, 0, 1, 1, 1, 1, 1, 1, 1, 1, 1, 0, 1, 2, 1, 0, 1, 0, 0, 2, 2, 1,\n",
              "       0, 0, 1, 0, 1, 0, 0, 2, 1, 1, 0, 2, 1, 0, 2, 0, 1, 1, 0, 1, 2, 1,\n",
              "       0, 1, 1, 1, 0, 0, 2, 1, 0, 2, 1, 0, 1, 1, 1, 1, 0, 0, 0, 1, 2, 1,\n",
              "       0, 1, 1, 1, 1, 0, 0, 0, 0, 1, 0, 1, 1, 0, 1, 2, 0, 1, 0, 0, 0, 0,\n",
              "       0, 0, 0, 1, 2, 2, 1, 0, 1, 1, 0, 1, 2, 1, 1, 2, 1, 1, 1, 1, 1, 1,\n",
              "       1, 0, 2, 1, 1, 0, 0, 0, 0, 0, 0, 1, 1, 1, 1, 0, 0, 1, 0, 1, 2, 0,\n",
              "       1, 1, 0, 1, 0, 2, 1, 1, 1, 1, 1, 0, 1, 1, 1, 1, 0, 1, 1, 1, 1, 1,\n",
              "       1, 1, 1, 1, 2, 2, 0, 0, 1, 0, 1, 0, 1, 2, 1, 1, 1, 0, 1, 1, 0, 1,\n",
              "       1, 1, 1, 1, 0, 0, 1, 0, 1, 2, 1, 2, 1, 2, 1, 1, 0, 0, 1, 0, 2, 1,\n",
              "       2, 0, 1, 1, 0, 2, 1, 0, 1, 0, 0, 1, 1, 1, 1, 1, 1, 1, 1, 2, 0, 1,\n",
              "       0, 1, 1, 1, 2, 1, 1, 0, 1, 1, 1, 0, 0, 1, 2, 0, 1, 0, 1, 1, 1, 1,\n",
              "       1, 2, 0, 0, 0, 1, 1, 1, 1, 1, 0, 1, 1, 1, 1, 1, 1, 1, 1, 0, 1, 0,\n",
              "       2, 1, 2, 1, 1, 0, 1, 1, 2, 0, 1, 1, 1, 1, 1, 0, 1, 0, 1, 1, 0, 1,\n",
              "       1, 1, 2, 1, 0, 1, 0, 2, 2, 1, 1, 1, 0, 1, 0, 1, 1, 2, 1, 2, 1, 0,\n",
              "       1, 0, 1, 2, 1, 1, 0, 1, 1, 1, 1, 0, 1, 1, 0, 1, 0, 1, 1, 0, 1, 1,\n",
              "       1, 1, 0, 0, 0, 0, 0, 0, 1, 1, 1, 1, 0, 1, 1, 1, 2, 0, 2, 1, 0, 1,\n",
              "       1, 1, 1, 1, 0, 1, 2, 0, 1, 1, 1, 1, 0, 0, 1, 2, 1, 0, 0, 0, 1, 1,\n",
              "       1, 0, 1, 0, 2, 0, 0, 1, 2, 1, 0, 1, 0, 1, 1, 1, 1, 0, 1, 0, 1, 2,\n",
              "       2, 1, 0, 1, 1, 0, 1, 1, 2, 2, 0, 1, 1, 1, 1, 1, 0, 0, 1, 2, 0, 1,\n",
              "       1, 0, 2, 0, 1, 2, 2, 1, 1, 2, 1, 1, 0, 0, 1, 1, 1, 1, 1, 0, 2, 0,\n",
              "       1, 0, 1, 1, 1, 1, 0, 2, 1, 2, 1, 1, 1, 1, 1, 1, 2, 1, 1, 0, 1, 1,\n",
              "       1, 1, 1, 1, 1, 2, 1, 2, 1, 1, 1, 1, 1, 1, 0, 1, 1, 0, 1, 0, 1, 0,\n",
              "       1, 1, 1, 1, 0, 0, 1, 1, 1, 1, 1, 1, 1, 0, 1, 1, 1, 2, 1, 1, 0, 1,\n",
              "       1, 1, 1, 1, 2, 0, 0, 1, 0, 1, 0, 1, 1, 1, 1, 0, 0, 1, 1, 1, 0, 0,\n",
              "       1, 1, 2, 1, 0, 1, 1, 1, 1, 1, 1, 1, 1, 0, 1, 0, 1, 1, 0, 0, 2, 0,\n",
              "       0, 1, 1, 1, 1, 0, 2, 1, 0, 1, 1, 0, 2, 2, 1, 0, 1, 0, 2, 0, 0, 1,\n",
              "       1, 1, 1, 1, 1, 1, 2, 1, 1, 0, 0, 1, 1, 0, 1, 1, 1, 1, 0, 1, 1, 0,\n",
              "       0, 1, 1, 1, 2, 1, 1, 1, 1, 1, 1, 0, 2, 1, 2, 1, 0, 1, 0, 0, 0, 1,\n",
              "       1, 2, 1, 0, 2, 2, 1, 0, 1, 0, 1, 1, 0, 1, 0, 0, 2, 0, 0, 1, 1, 0,\n",
              "       1, 1, 1, 1, 1, 1, 1, 0, 0, 1, 1, 2, 0, 0, 0, 0, 1, 0, 2, 0, 1, 1,\n",
              "       0, 1, 1, 1, 1, 2, 1, 1, 1, 1, 1, 1, 1, 1, 1, 1, 1, 1, 0, 2, 1, 0,\n",
              "       1, 1, 1, 2, 0, 0, 1, 0, 1, 2, 1, 1, 1, 2, 1, 0, 1, 1, 1, 0, 1, 1,\n",
              "       2, 0, 1, 1, 1, 0, 1, 2, 1, 1, 1, 1, 0, 0, 0, 0, 1, 0, 1, 0, 1, 0,\n",
              "       0])"
            ]
          },
          "metadata": {},
          "execution_count": 38
        }
      ]
    },
    {
      "cell_type": "code",
      "metadata": {
        "colab": {
          "base_uri": "https://localhost:8080/"
        },
        "id": "X5J70v-JXD4l",
        "outputId": "27ba4681-0fc3-426d-a59e-c6229cf6046b"
      },
      "source": [
        "from sklearn.metrics import confusion_matrix\n",
        "cm = confusion_matrix(rounded_labels, yhat_classes)\n",
        "cm"
      ],
      "execution_count": 39,
      "outputs": [
        {
          "output_type": "execute_result",
          "data": {
            "text/plain": [
              "array([[141,  71,   3],\n",
              "       [ 83, 326,  17],\n",
              "       [ 16,  23,  47]])"
            ]
          },
          "metadata": {},
          "execution_count": 39
        }
      ]
    },
    {
      "cell_type": "code",
      "metadata": {
        "colab": {
          "base_uri": "https://localhost:8080/",
          "height": 350
        },
        "id": "hbSiI2K9XJIV",
        "outputId": "a3f05d49-c253-4ec2-b94b-6ca478aa5a69"
      },
      "source": [
        "# The confusion matrix\n",
        "from sklearn.metrics import confusion_matrix\n",
        "import seaborn as sns\n",
        "\n",
        "lstm_val = confusion_matrix(rounded_labels, yhat_classes)\n",
        "f, ax = plt.subplots(figsize=(5,5))\n",
        "sns.heatmap(lstm_val, annot=True, linewidth=0.7, linecolor='cyan', fmt='g', ax=ax, cmap=\"BuPu\")\n",
        "plt.title('LSTM Classification Confusion Matrix')\n",
        "plt.xlabel('Y predict')\n",
        "plt.ylabel('Y test')\n",
        "plt.show()"
      ],
      "execution_count": 40,
      "outputs": [
        {
          "output_type": "display_data",
          "data": {
            "image/png": "[encoded data removed]",
            "text/plain": [
              "<Figure size 360x360 with 2 Axes>"
            ]
          },
          "metadata": {
            "needs_background": "light"
          }
        }
      ]
    },
    {
      "cell_type": "code",
      "metadata": {
        "colab": {
          "base_uri": "https://localhost:8080/"
        },
        "id": "fhE0L9foXV_9",
        "outputId": "2a671163-ee22-4b83-c282-660e56382684"
      },
      "source": [
        "validation_size = 610\n",
        "\n",
        "X_validate = X_test[-validation_size:]\n",
        "Y_validate = Y_test[-validation_size:]\n",
        "X_test = X_test[:-validation_size]\n",
        "Y_test = Y_test[:-validation_size]\n",
        "score,acc = model.evaluate(X_test, Y_test, verbose = 1, batch_size = batch_size)\n",
        "\n",
        "print(\"score: %.2f\" % (score))\n",
        "print(\"acc: %.2f\" % (acc))"
      ],
      "execution_count": 41,
      "outputs": [
        {
          "output_type": "stream",
          "name": "stdout",
          "text": [
            "4/4 [==============================] - 0s 8ms/step - loss: 1.1636 - acc: 0.7436\n",
            "score: 1.16\n",
            "acc: 0.74\n"
          ]
        }
      ]
    },
    {
      "cell_type": "code",
      "metadata": {
        "id": "6DVZAxM6aNMc",
        "outputId": "51db39ca-b458-410e-ea41-79a5a2b9b783",
        "colab": {
          "base_uri": "https://localhost:8080/"
        }
      },
      "source": [
        "from sklearn.metrics import precision_score\n",
        "from sklearn.metrics import recall_score\n",
        "from sklearn.metrics import f1_score\n",
        "\n",
        "precision = precision_score(rounded_labels, yhat_classes, average = 'macro')\n",
        "recall = recall_score(rounded_labels, yhat_classes, average = 'macro')\n",
        "f1 = f1_score(rounded_labels, yhat_classes, average = 'macro')\n",
        "\n",
        "print(precision)\n",
        "print(recall)\n",
        "print(f1)"
      ],
      "execution_count": 55,
      "outputs": [
        {
          "output_type": "stream",
          "name": "stdout",
          "text": [
            "0.6883943378346364\n",
            "0.6558612657859301\n",
            "0.6682816279812526\n"
          ]
        }
      ]
    },
    {
      "cell_type": "code",
      "metadata": {
        "id": "jPs_fQhkXgGa"
      },
      "source": [
        "model.save('Mymodel.h5')"
      ],
      "execution_count": 56,
      "outputs": []
    },
    {
      "cell_type": "markdown",
      "metadata": {
        "id": "O8hun8i8aCk9"
      },
      "source": [
        "## Tesing New Inputs"
      ]
    },
    {
      "cell_type": "code",
      "metadata": {
        "colab": {
          "base_uri": "https://localhost:8080/"
        },
        "id": "941ljYNpXmuL",
        "outputId": "07b6297a-2628-4ab9-cdf4-b08202151fe5"
      },
      "source": [
        "message = ['Congratulations! you have won a $1,000 Walmart gift card']\n",
        "seq = tokenizer.texts_to_sequences(message)\n",
        "\n",
        "padded = pad_sequences(seq, maxlen=X.shape[1], dtype='int32', value=0)\n",
        "\n",
        "pred = model.predict(padded)\n",
        "\n",
        "labels = ['0','1','2']\n",
        "print(pred, labels[np.argmax(pred)])"
      ],
      "execution_count": 32,
      "outputs": [
        {
          "output_type": "stream",
          "name": "stdout",
          "text": [
            "[[0.9908083  0.00563567 0.0035561 ]] 0\n"
          ]
        }
      ]
    },
    {
      "cell_type": "code",
      "metadata": {
        "colab": {
          "base_uri": "https://localhost:8080/"
        },
        "id": "9I5TlIDmXtSW",
        "outputId": "53afe115-3b9a-43f2-e844-b4978936fb85"
      },
      "source": [
        "message = ['such massive asteroid hit will certainly create new business opportunities']\n",
        "seq = tokenizer.texts_to_sequences(message)\n",
        "\n",
        "padded = pad_sequences(seq, maxlen=X.shape[1], dtype='int32', value=0)\n",
        "\n",
        "pred = model.predict(padded)\n",
        "\n",
        "labels = ['0','1','2']\n",
        "print(pred, labels[np.argmax(pred)])"
      ],
      "execution_count": 33,
      "outputs": [
        {
          "output_type": "stream",
          "name": "stdout",
          "text": [
            "[[3.5811632e-03 9.2142553e-04 9.9549747e-01]] 2\n"
          ]
        }
      ]
    },
    {
      "cell_type": "code",
      "metadata": {
        "colab": {
          "base_uri": "https://localhost:8080/"
        },
        "id": "NgOTabGbXyCx",
        "outputId": "35e9fc77-009f-4b13-936f-e3999641f7ee"
      },
      "source": [
        "message = ['so does anyone else not open Snapchat anymore ? or is it just me ... ugh this so sad.']\n",
        "seq = tokenizer.texts_to_sequences(message)\n",
        "\n",
        "padded = pad_sequences(seq, maxlen=X.shape[1], dtype='int32', value=0)\n",
        "\n",
        "pred = model.predict(padded)\n",
        "\n",
        "labels = ['0','1','2']\n",
        "print(pred, labels[np.argmax(pred)])"
      ],
      "execution_count": 34,
      "outputs": [
        {
          "output_type": "stream",
          "name": "stdout",
          "text": [
            "[[1.0786575e-09 1.0000000e+00 2.4114524e-09]] 1\n"
          ]
        }
      ]
    },
    {
      "cell_type": "code",
      "metadata": {
        "colab": {
          "base_uri": "https://localhost:8080/"
        },
        "id": "N2RqtB6AX6ux",
        "outputId": "61458068-2d92-4787-92c5-f63073fd231a"
      },
      "source": [
        "\n",
        "\n",
        "message = ['@elonmusk had a terrible experience with a very pushy sales guy from tesla Stanford shop while shopping for model x']\n",
        "seq = tokenizer.texts_to_sequences(message)\n",
        "\n",
        "padded = pad_sequences(seq, maxlen=X.shape[1], dtype='int32', value=0)\n",
        "\n",
        "pred = model.predict(padded)\n",
        "\n",
        "labels = ['0','1','2']\n",
        "print(pred, labels[np.argmax(pred)])\n",
        "\n"
      ],
      "execution_count": 35,
      "outputs": [
        {
          "output_type": "stream",
          "name": "stdout",
          "text": [
            "[[9.9957806e-01 4.1401849e-04 7.9053634e-06]] 0\n"
          ]
        }
      ]
    },
    {
      "cell_type": "code",
      "metadata": {
        "colab": {
          "base_uri": "https://localhost:8080/"
        },
        "id": "IVH8-DXjX9DC",
        "outputId": "0996025a-5bb9-4488-d084-97157d90cf2c"
      },
      "source": [
        "message = ['The local electronics industry is expected to remain stable amid layoff concerns surrounding Japanese electronics giants operating in the country, an official says.']\n",
        "seq = tokenizer.texts_to_sequences(message)\n",
        "\n",
        "padded = pad_sequences(seq, maxlen=X.shape[1], dtype='int32', value=0)\n",
        "\n",
        "pred = model.predict(padded)\n",
        "\n",
        "labels = ['0','1','2']\n",
        "print(pred, labels[np.argmax(pred)])"
      ],
      "execution_count": 36,
      "outputs": [
        {
          "output_type": "stream",
          "name": "stdout",
          "text": [
            "[[3.6697056e-06 9.9999511e-01 1.1580016e-06]] 1\n"
          ]
        }
      ]
    },
    {
      "cell_type": "code",
      "metadata": {
        "colab": {
          "base_uri": "https://localhost:8080/"
        },
        "id": "jZdNQgueYCV6",
        "outputId": "616d6efb-e565-495c-e26e-a474853a3c0b"
      },
      "source": [
        "message = ['The local electronics industry is amid layoff concerns and last year has laid off tens of employees']\n",
        "seq = tokenizer.texts_to_sequences(message)\n",
        "\n",
        "padded = pad_sequences(seq, maxlen=X.shape[1], dtype='int32', value=0)\n",
        "\n",
        "pred = model.predict(padded)\n",
        "\n",
        "labels = ['0','1','2']\n",
        "print(pred, labels[np.argmax(pred)])"
      ],
      "execution_count": 37,
      "outputs": [
        {
          "output_type": "stream",
          "name": "stdout",
          "text": [
            "[[8.7507509e-08 6.2331345e-08 9.9999988e-01]] 2\n"
          ]
        }
      ]
    }
  ]
}