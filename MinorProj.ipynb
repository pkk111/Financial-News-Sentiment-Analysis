{
  "nbformat": 4,
  "nbformat_minor": 0,
  "metadata": {
    "colab": {
      "name": "MinorProj.ipynb",
      "provenance": [],
      "collapsed_sections": [],
      "toc_visible": true
    },
    "kernelspec": {
      "name": "python3",
      "display_name": "Python 3"
    },
    "language_info": {
      "name": "python"
    }
  },
  "cells": [
    {
      "cell_type": "code",
      "metadata": {
        "id": "PTo6ZlnILNPi",
        "outputId": "95846769-64bb-44ef-9b90-bb1051caaf41",
        "colab": {
          "base_uri": "https://localhost:8080/"
        }
      },
      "source": [
        "import pandas as pd\n",
        "import numpy as np\n",
        "from tqdm import tqdm\n",
        "from keras.preprocessing.text import Tokenizer\n",
        "tqdm.pandas(desc=\"progress-bar\")\n",
        "from gensim.models import Doc2Vec\n",
        "from sklearn import utils\n",
        "from sklearn.model_selection import train_test_split\n",
        "from keras.preprocessing.sequence import pad_sequences\n",
        "import gensim\n",
        "from sklearn.linear_model import LogisticRegression\n",
        "from gensim.models.doc2vec import TaggedDocument\n",
        "import re\n",
        "import seaborn as sns\n",
        "import matplotlib.pyplot as plt\n",
        "import nltk\n",
        "from nltk.corpus import stopwords\n",
        "\n",
        "nltk.download('punkt')"
      ],
      "execution_count": 44,
      "outputs": [
        {
          "output_type": "stream",
          "name": "stdout",
          "text": [
            "[nltk_data] Downloading package punkt to /root/nltk_data...\n",
            "[nltk_data]   Package punkt is already up-to-date!\n"
          ]
        },
        {
          "output_type": "execute_result",
          "data": {
            "text/plain": [
              "True"
            ]
          },
          "metadata": {},
          "execution_count": 44
        }
      ]
    },
    {
      "cell_type": "code",
      "metadata": {
        "colab": {
          "base_uri": "https://localhost:8080/",
          "height": 221
        },
        "id": "CFTSskC7L0_G",
        "outputId": "6959352d-910e-4092-ab00-c414f4fbb20a"
      },
      "source": [
        "url = \"https://raw.githubusercontent.com/pkk111/Financial-News-Sentiment-Analysis/main/all-data.csv\"\n",
        "df = pd.read_csv(url, delimiter=',',encoding='latin-1')\n",
        "df.head()"
      ],
      "execution_count": 45,
      "outputs": [
        {
          "output_type": "execute_result",
          "data": {
            "text/html": [
              "<div>\n",
              "<style scoped>\n",
              "    .dataframe tbody tr th:only-of-type {\n",
              "        vertical-align: middle;\n",
              "    }\n",
              "\n",
              "    .dataframe tbody tr th {\n",
              "        vertical-align: top;\n",
              "    }\n",
              "\n",
              "    .dataframe thead th {\n",
              "        text-align: right;\n",
              "    }\n",
              "</style>\n",
              "<table border=\"1\" class=\"dataframe\">\n",
              "  <thead>\n",
              "    <tr style=\"text-align: right;\">\n",
              "      <th></th>\n",
              "      <th>neutral</th>\n",
              "      <th>According to Gran , the company has no plans to move all production to Russia , although that is where the company is growing .</th>\n",
              "    </tr>\n",
              "  </thead>\n",
              "  <tbody>\n",
              "    <tr>\n",
              "      <th>0</th>\n",
              "      <td>neutral</td>\n",
              "      <td>Technopolis plans to develop in stages an area...</td>\n",
              "    </tr>\n",
              "    <tr>\n",
              "      <th>1</th>\n",
              "      <td>negative</td>\n",
              "      <td>The international electronic industry company ...</td>\n",
              "    </tr>\n",
              "    <tr>\n",
              "      <th>2</th>\n",
              "      <td>positive</td>\n",
              "      <td>With the new production plant the company woul...</td>\n",
              "    </tr>\n",
              "    <tr>\n",
              "      <th>3</th>\n",
              "      <td>positive</td>\n",
              "      <td>According to the company 's updated strategy f...</td>\n",
              "    </tr>\n",
              "    <tr>\n",
              "      <th>4</th>\n",
              "      <td>positive</td>\n",
              "      <td>FINANCING OF ASPOCOMP 'S GROWTH Aspocomp is ag...</td>\n",
              "    </tr>\n",
              "  </tbody>\n",
              "</table>\n",
              "</div>"
            ],
            "text/plain": [
              "    neutral According to Gran , the company has no plans to move all production to Russia , although that is where the company is growing .\n",
              "0   neutral  Technopolis plans to develop in stages an area...                                                                             \n",
              "1  negative  The international electronic industry company ...                                                                             \n",
              "2  positive  With the new production plant the company woul...                                                                             \n",
              "3  positive  According to the company 's updated strategy f...                                                                             \n",
              "4  positive  FINANCING OF ASPOCOMP 'S GROWTH Aspocomp is ag...                                                                             "
            ]
          },
          "metadata": {},
          "execution_count": 45
        }
      ]
    },
    {
      "cell_type": "code",
      "metadata": {
        "id": "U19_ZlaqNDNG"
      },
      "source": [
        "df = df.rename(columns={'neutral':'sentiment','According to Gran , the company has no plans to move all production to Russia , although that is where the company is growing .':'Message'})"
      ],
      "execution_count": 46,
      "outputs": []
    },
    {
      "cell_type": "code",
      "metadata": {
        "colab": {
          "base_uri": "https://localhost:8080/"
        },
        "id": "i3hpBFQcNHc1",
        "outputId": "69e0511f-1c07-41c1-f84f-c7ef7ee95f43"
      },
      "source": [
        "df.shape"
      ],
      "execution_count": 47,
      "outputs": [
        {
          "output_type": "execute_result",
          "data": {
            "text/plain": [
              "(4845, 2)"
            ]
          },
          "metadata": {},
          "execution_count": 47
        }
      ]
    },
    {
      "cell_type": "code",
      "metadata": {
        "colab": {
          "base_uri": "https://localhost:8080/"
        },
        "id": "qPr5Q-KzNLMe",
        "outputId": "df82a160-20b2-4dad-f335-7493c4b9b52f"
      },
      "source": [
        "df.index = range(4845)\n",
        "df['Message'].apply(lambda x: len(x.split(' '))).sum()"
      ],
      "execution_count": 48,
      "outputs": [
        {
          "output_type": "execute_result",
          "data": {
            "text/plain": [
              "111964"
            ]
          },
          "metadata": {},
          "execution_count": 48
        }
      ]
    },
    {
      "cell_type": "code",
      "metadata": {
        "colab": {
          "base_uri": "https://localhost:8080/",
          "height": 373
        },
        "id": "GwZ_5eRYNOwt",
        "outputId": "e11c5263-bb95-4fca-c719-24d29eaa9ca1"
      },
      "source": [
        "cnt_pro = df['sentiment'].value_counts()\n",
        "plt.figure(figsize=(12,4))\n",
        "sns.barplot(cnt_pro.index, cnt_pro.values, alpha=0.8)\n",
        "plt.ylabel('Number of Occurrences', fontsize=12)\n",
        "plt.xlabel('sentiment', fontsize=12)\n",
        "plt.xticks(rotation=90)\n",
        "plt.show();"
      ],
      "execution_count": 49,
      "outputs": [
        {
          "output_type": "stream",
          "name": "stderr",
          "text": [
            "/usr/local/lib/python3.7/dist-packages/seaborn/_decorators.py:43: FutureWarning: Pass the following variables as keyword args: x, y. From version 0.12, the only valid positional argument will be `data`, and passing other arguments without an explicit keyword will result in an error or misinterpretation.\n",
            "  FutureWarning\n"
          ]
        },
        {
          "output_type": "display_data",
          "data": {
            "image/png": "[encoded data removed]",
            "text/plain": [
              "<Figure size 864x288 with 1 Axes>"
            ]
          },
          "metadata": {
            "needs_background": "light"
          }
        }
      ]
    },
    {
      "cell_type": "code",
      "metadata": {
        "colab": {
          "base_uri": "https://localhost:8080/"
        },
        "id": "ad0lgeglNT4H",
        "outputId": "5cf91b0d-b5db-4ca5-b525-b737ada09503"
      },
      "source": [
        "#Convert sting to numeric\n",
        "sentiment  = {'positive': 0,'neutral': 1,'negative':2} \n",
        "\n",
        "df.sentiment = [sentiment[item] for item in df.sentiment] \n",
        "print(df)"
      ],
      "execution_count": 50,
      "outputs": [
        {
          "output_type": "stream",
          "name": "stdout",
          "text": [
            "      sentiment                                            Message\n",
            "0             1  Technopolis plans to develop in stages an area...\n",
            "1             2  The international electronic industry company ...\n",
            "2             0  With the new production plant the company woul...\n",
            "3             0  According to the company 's updated strategy f...\n",
            "4             0  FINANCING OF ASPOCOMP 'S GROWTH Aspocomp is ag...\n",
            "...         ...                                                ...\n",
            "4840          2  LONDON MarketWatch -- Share prices ended lower...\n",
            "4841          1  Rinkuskiai 's beer sales fell by 6.5 per cent ...\n",
            "4842          2  Operating profit fell to EUR 35.4 mn from EUR ...\n",
            "4843          2  Net sales of the Paper segment decreased to EU...\n",
            "4844          2  Sales in Finland decreased by 10.5 % in Januar...\n",
            "\n",
            "[4845 rows x 2 columns]\n"
          ]
        }
      ]
    },
    {
      "cell_type": "code",
      "metadata": {
        "colab": {
          "base_uri": "https://localhost:8080/"
        },
        "id": "-ul9mX4ANZGm",
        "outputId": "17898db9-21fb-4652-c29f-9f7b068eb8fe"
      },
      "source": [
        "def print_message(index):\n",
        "    example = df[df.index == index][['sentiment', 'Message']].values[0]\n",
        "    if len(example) > 0:\n",
        "        print(example[0])\n",
        "        print('Message:', example[1])\n",
        "print_message(12)"
      ],
      "execution_count": 51,
      "outputs": [
        {
          "output_type": "stream",
          "name": "stdout",
          "text": [
            "0\n",
            "Message: Finnish Talentum reports its operating profit increased to EUR 20.5 mn in 2005 from EUR 9.3 mn in 2004 , and net sales totaled EUR 103.3 mn , up from EUR 96.4 mn .\n"
          ]
        }
      ]
    },
    {
      "cell_type": "code",
      "metadata": {
        "colab": {
          "base_uri": "https://localhost:8080/"
        },
        "id": "Zjv5YP_SNdJw",
        "outputId": "50ba4b4d-72ba-4485-fe6b-756c6b1d257e"
      },
      "source": [
        "print_message(0)"
      ],
      "execution_count": 52,
      "outputs": [
        {
          "output_type": "stream",
          "name": "stdout",
          "text": [
            "1\n",
            "Message: Technopolis plans to develop in stages an area of no less than 100,000 square meters in order to host companies working in computer technologies and telecommunications , the statement said .\n"
          ]
        }
      ]
    },
    {
      "cell_type": "code",
      "metadata": {
        "id": "qIvXA_isNkWu"
      },
      "source": [
        "from bs4 import BeautifulSoup\n",
        "def cleanText(text):\n",
        "    text = BeautifulSoup(text, \"lxml\").text\n",
        "    text = re.sub(r'\\|\\|\\|', r' ', text) \n",
        "    text = re.sub(r'http\\S+', r'<URL>', text)\n",
        "    text = text.lower()\n",
        "    text = text.replace('x', '')\n",
        "    return text\n",
        "df['Message'] = df['Message'].apply(cleanText)"
      ],
      "execution_count": 53,
      "outputs": []
    },
    {
      "cell_type": "code",
      "metadata": {
        "colab": {
          "base_uri": "https://localhost:8080/"
        },
        "id": "po0T0eOqNpq-",
        "outputId": "9f463639-7fa6-4dd7-e854-8c844a995af5"
      },
      "source": [
        "df['Message'] = df['Message'].apply(cleanText)\n",
        "train, test = train_test_split(df, test_size=0.000001 , random_state=42)\n",
        "\n",
        "def tokenize_text(text):\n",
        "    tokens = []\n",
        "    for sent in nltk.sent_tokenize(text):\n",
        "        for word in nltk.word_tokenize(sent):\n",
        "            #if len(word) < 0:\n",
        "            if len(word) <= 0:\n",
        "                continue\n",
        "            tokens.append(word.lower())\n",
        "    return tokens\n",
        "train_tagged = train.apply(\n",
        "    lambda r: TaggedDocument(words=tokenize_text(r['Message']), tags=[r.sentiment]), axis=1)\n",
        "test_tagged = test.apply(\n",
        "    lambda r: TaggedDocument(words=tokenize_text(r['Message']), tags=[r.sentiment]), axis=1)\n",
        "\n",
        "# The maximum number of words to be used. (most frequent)\n",
        "max_fatures = 500000\n",
        "\n",
        "# Max number of words in each complaint.\n",
        "MAX_SEQUENCE_LENGTH = 50\n",
        "\n",
        "#tokenizer = Tokenizer(num_words=max_fatures, split=' ')\n",
        "tokenizer = Tokenizer(num_words=max_fatures, split=' ', filters='!\"#$%&()*+,-./:;<=>?@[\\]^_`{|}~', lower=True)\n",
        "tokenizer.fit_on_texts(df['Message'].values)\n",
        "X = tokenizer.texts_to_sequences(df['Message'].values)\n",
        "X = pad_sequences(X)\n",
        "print('Found %s unique tokens.' % len(X))"
      ],
      "execution_count": 54,
      "outputs": [
        {
          "output_type": "stream",
          "name": "stdout",
          "text": [
            "Found 4845 unique tokens.\n"
          ]
        }
      ]
    },
    {
      "cell_type": "code",
      "metadata": {
        "colab": {
          "base_uri": "https://localhost:8080/"
        },
        "id": "y-9BPct8O8yl",
        "outputId": "c0cc56c6-5489-44f3-a2a3-154d0ed52b65"
      },
      "source": [
        "df['Message'] = df['Message'].apply(cleanText)\n",
        "train, test = train_test_split(df, test_size=0.000001 , random_state=42)\n",
        "import nltk\n",
        "from nltk.corpus import stopwords\n",
        "def tokenize_text(text):\n",
        "    tokens = []\n",
        "    for sent in nltk.sent_tokenize(text):\n",
        "        for word in nltk.word_tokenize(sent):\n",
        "            #if len(word) < 0:\n",
        "            if len(word) <= 0:\n",
        "                continue\n",
        "            tokens.append(word.lower())\n",
        "    return tokens\n",
        "train_tagged = train.apply(\n",
        "    lambda r: TaggedDocument(words=tokenize_text(r['Message']), tags=[r.sentiment]), axis=1)\n",
        "test_tagged = test.apply(\n",
        "    lambda r: TaggedDocument(words=tokenize_text(r['Message']), tags=[r.sentiment]), axis=1)\n",
        "\n",
        "# The maximum number of words to be used. (most frequent)\n",
        "max_fatures = 500000\n",
        "\n",
        "# Max number of words in each complaint.\n",
        "MAX_SEQUENCE_LENGTH = 50\n",
        "\n",
        "#tokenizer = Tokenizer(num_words=max_fatures, split=' ')\n",
        "tokenizer = Tokenizer(num_words=max_fatures, split=' ', filters='!\"#$%&()*+,-./:;<=>?@[\\]^_`{|}~', lower=True)\n",
        "tokenizer.fit_on_texts(df['Message'].values)\n",
        "X = tokenizer.texts_to_sequences(df['Message'].values)\n",
        "X = pad_sequences(X)\n",
        "print('Found %s unique tokens.' % len(X))"
      ],
      "execution_count": 55,
      "outputs": [
        {
          "output_type": "stream",
          "name": "stdout",
          "text": [
            "Found 4845 unique tokens.\n"
          ]
        }
      ]
    },
    {
      "cell_type": "code",
      "metadata": {
        "colab": {
          "base_uri": "https://localhost:8080/"
        },
        "id": "yT2PbAEfPFCw",
        "outputId": "a57bfdb0-5ce9-4992-b7c3-7c616d33d9bd"
      },
      "source": [
        "X = tokenizer.texts_to_sequences(df['Message'].values)\n",
        "X = pad_sequences(X, maxlen=MAX_SEQUENCE_LENGTH)\n",
        "print('Shape of data tensor:', X.shape)"
      ],
      "execution_count": 56,
      "outputs": [
        {
          "output_type": "stream",
          "name": "stdout",
          "text": [
            "Shape of data tensor: (4845, 50)\n"
          ]
        }
      ]
    },
    {
      "cell_type": "code",
      "metadata": {
        "colab": {
          "base_uri": "https://localhost:8080/"
        },
        "id": "aLoWOarbPHE1",
        "outputId": "4e64e27b-a89d-4ee6-aea6-fc962404c789"
      },
      "source": [
        "#train_tagged.values[2173]\n",
        "train_tagged.values"
      ],
      "execution_count": 57,
      "outputs": [
        {
          "output_type": "execute_result",
          "data": {
            "text/plain": [
              "array([TaggedDocument(words=['upm-kymmene', 'has', 'generated', 'four', 'consecutive', 'quarters', 'of', 'positive', 'free', 'cash', 'flow', '.'], tags=[0]),\n",
              "       TaggedDocument(words=['in', 'the', 'method', 'the', 'smelt', 'spouts', '2', 'are', 'separated', 'from', 'the', 'working', 'area', '6', 'by', 'a', 'shielding', 'wall', '8', ',', '10', 'arranged', 'movable', 'in', 'relation', 'to', 'the', 'smelt', 'spouts', '.'], tags=[1]),\n",
              "       TaggedDocument(words=['``', 'that', \"'s\", 'a', 'very', 'high', 'figure', 'on', 'the', 'european', 'scale', ',', \"''\", 'noop', 'said', ',', 'recalling', 'however', 'that', 'this', 'also', 'includes', 'beer', 'bought', 'by', 'finnish', 'tourists', '.'], tags=[1]),\n",
              "       ...,\n",
              "       TaggedDocument(words=['proha', 'plc', '(', 'euronet', ':7327', ')', 'announced', 'today', '(', '19', 'may', ')', 'that', 'its', 'fully-owned', 'subsidiary', ',', 'safran', 'software', 'solutions', 'as', ',', 'has', 'agreed', 'to', 'sell', 'its', '49', '%', 'share', 'of', 'safran', 'north', 'america', 'llc', 'to', 'a', 'sna', 'holding', 'as', ',', 'an', 'investment', 'group', 'based', 'in', 'norway', '.'], tags=[1]),\n",
              "       TaggedDocument(words=['the', 'building', 'will', 'house', 'product', 'development', 'and', 'test', 'laboratories', '.'], tags=[1]),\n",
              "       TaggedDocument(words=['(', 'adp', 'news', ')', '-', 'oct', '31', ',', '2008', '-', 'finnish', 'food', 'company', 'raisio', 'oyj', '(', 'om', ':', 'raivv', ')', 'said', 'today', 'that', 'its', 'net', 'profit', 'jumped', 'to', 'eur', '16.4', 'million', '(', 'usd', '20.9', 'm', ')', 'for', 'the', 'first', 'nine', 'months', 'of', '2008', 'from', 'eur', '1.1', 'million', 'for', 'the', 'same', 'period', 'of', '2'], tags=[0])],\n",
              "      dtype=object)"
            ]
          },
          "metadata": {},
          "execution_count": 57
        }
      ]
    },
    {
      "cell_type": "code",
      "metadata": {
        "colab": {
          "base_uri": "https://localhost:8080/"
        },
        "id": "F3ktMn35PRdg",
        "outputId": "9886b726-b354-4b19-c78e-51a585a7d546"
      },
      "source": [
        "d2v_model = Doc2Vec(dm=1, dm_mean=1, size=20, window=8, min_count=1, workers=1, alpha=0.065, min_alpha=0.065)\n",
        "d2v_model.build_vocab([x for x in tqdm(train_tagged.values)])"
      ],
      "execution_count": 58,
      "outputs": [
        {
          "output_type": "stream",
          "name": "stderr",
          "text": [
            "/usr/local/lib/python3.7/dist-packages/gensim/models/doc2vec.py:570: UserWarning: The parameter `size` is deprecated, will be removed in 4.0.0, use `vector_size` instead.\n",
            "  warnings.warn(\"The parameter `size` is deprecated, will be removed in 4.0.0, use `vector_size` instead.\")\n",
            "100%|██████████| 4844/4844 [00:00<00:00, 986799.19it/s]\n"
          ]
        }
      ]
    },
    {
      "cell_type": "code",
      "metadata": {
        "colab": {
          "base_uri": "https://localhost:8080/"
        },
        "id": "_hOJp4VaPf3m",
        "outputId": "ee718b17-6ee7-4c54-ccd7-375eddedc482"
      },
      "source": [
        "%%time\n",
        "for epoch in range(30):\n",
        "    d2v_model.train(utils.shuffle([x for x in tqdm(train_tagged.values)]), total_examples=len(train_tagged.values), epochs=1)\n",
        "    d2v_model.alpha -= 0.002\n",
        "    d2v_model.min_alpha = d2v_model.alpha"
      ],
      "execution_count": 59,
      "outputs": [
        {
          "output_type": "stream",
          "name": "stderr",
          "text": [
            "100%|██████████| 4844/4844 [00:00<00:00, 1310111.46it/s]\n",
            "100%|██████████| 4844/4844 [00:00<00:00, 1231793.90it/s]\n",
            "100%|██████████| 4844/4844 [00:00<00:00, 2332630.15it/s]\n",
            "100%|██████████| 4844/4844 [00:00<00:00, 2589168.93it/s]\n",
            "100%|██████████| 4844/4844 [00:00<00:00, 1104676.41it/s]\n",
            "100%|██████████| 4844/4844 [00:00<00:00, 1391780.28it/s]\n",
            "100%|██████████| 4844/4844 [00:00<00:00, 1333412.65it/s]\n",
            "100%|██████████| 4844/4844 [00:00<00:00, 1295409.88it/s]\n",
            "100%|██████████| 4844/4844 [00:00<00:00, 1132067.12it/s]\n",
            "100%|██████████| 4844/4844 [00:00<00:00, 2501195.20it/s]\n",
            "100%|██████████| 4844/4844 [00:00<00:00, 2508916.84it/s]\n",
            "100%|██████████| 4844/4844 [00:00<00:00, 1150464.81it/s]\n",
            "100%|██████████| 4844/4844 [00:00<00:00, 1264609.02it/s]\n",
            "100%|██████████| 4844/4844 [00:00<00:00, 2353435.49it/s]\n",
            "100%|██████████| 4844/4844 [00:00<00:00, 2457033.33it/s]\n",
            "100%|██████████| 4844/4844 [00:00<00:00, 1264136.92it/s]\n",
            "100%|██████████| 4844/4844 [00:00<00:00, 2430288.11it/s]\n",
            "100%|██████████| 4844/4844 [00:00<00:00, 1098108.78it/s]\n",
            "100%|██████████| 4844/4844 [00:00<00:00, 2419291.33it/s]\n",
            "100%|██████████| 4844/4844 [00:00<00:00, 2441678.71it/s]\n",
            "100%|██████████| 4844/4844 [00:00<00:00, 1227329.26it/s]\n",
            "100%|██████████| 4844/4844 [00:00<00:00, 1074586.59it/s]\n",
            "100%|██████████| 4844/4844 [00:00<00:00, 1384666.30it/s]\n",
            "100%|██████████| 4844/4844 [00:00<00:00, 2559809.57it/s]\n",
            "100%|██████████| 4844/4844 [00:00<00:00, 2524504.05it/s]\n",
            "100%|██████████| 4844/4844 [00:00<00:00, 2455845.35it/s]\n",
            "100%|██████████| 4844/4844 [00:00<00:00, 755202.34it/s]\n",
            "100%|██████████| 4844/4844 [00:00<00:00, 1847522.83it/s]\n",
            "100%|██████████| 4844/4844 [00:00<00:00, 1203198.42it/s]\n",
            "100%|██████████| 4844/4844 [00:00<00:00, 1036486.51it/s]\n"
          ]
        },
        {
          "output_type": "stream",
          "name": "stdout",
          "text": [
            "CPU times: user 12.4 s, sys: 104 ms, total: 12.5 s\n",
            "Wall time: 12.6 s\n"
          ]
        }
      ]
    },
    {
      "cell_type": "code",
      "metadata": {
        "colab": {
          "base_uri": "https://localhost:8080/"
        },
        "id": "vl5__NsiPlH3",
        "outputId": "052a36d8-4eed-4a14-eb89-fac530276d0c"
      },
      "source": [
        "print(d2v_model)"
      ],
      "execution_count": 60,
      "outputs": [
        {
          "output_type": "stream",
          "name": "stdout",
          "text": [
            "Doc2Vec(dm/m,d20,n5,w8,s0.001)\n"
          ]
        }
      ]
    },
    {
      "cell_type": "code",
      "metadata": {
        "colab": {
          "base_uri": "https://localhost:8080/"
        },
        "id": "E7dtt3VUPsid",
        "outputId": "bc98ad83-05ff-46da-8864-115277b4e455"
      },
      "source": [
        "len(d2v_model.wv.vocab)"
      ],
      "execution_count": 61,
      "outputs": [
        {
          "output_type": "execute_result",
          "data": {
            "text/plain": [
              "11683"
            ]
          },
          "metadata": {},
          "execution_count": 61
        }
      ]
    },
    {
      "cell_type": "code",
      "metadata": {
        "id": "X56WKvrNPw4G"
      },
      "source": [
        "# save the vectors in a new matrix\n",
        "embedding_matrix = np.zeros((len(d2v_model.wv.vocab)+ 1, 20))\n",
        "\n",
        "for i, vec in enumerate(d2v_model.docvecs.vectors_docs):\n",
        "    while i in vec <= 1000:\n",
        "    #print(i)\n",
        "    #print(model.docvecs)\n",
        "          embedding_matrix[i]=vec\n",
        "    #print(vec)\n",
        "    #print(vec[i])"
      ],
      "execution_count": 62,
      "outputs": []
    },
    {
      "cell_type": "code",
      "metadata": {
        "colab": {
          "base_uri": "https://localhost:8080/"
        },
        "id": "SRj-HfjIP269",
        "outputId": "62e204c0-2d8b-459b-9e9c-18cf815475bf"
      },
      "source": [
        "d2v_model.wv.most_similar(positive=['profit'], topn=10)"
      ],
      "execution_count": 63,
      "outputs": [
        {
          "output_type": "execute_result",
          "data": {
            "text/plain": [
              "[('loss', 0.9000874757766724),\n",
              " ('sales', 0.8128359913825989),\n",
              " ('income', 0.801789402961731),\n",
              " ('1.42', 0.7603138089179993),\n",
              " ('mistake', 0.7535028457641602),\n",
              " ('atul', 0.7490358352661133),\n",
              " ('profits', 0.7378146648406982),\n",
              " ('bill', 0.7332244515419006),\n",
              " ('chopra', 0.7332055568695068),\n",
              " ('margin', 0.708213210105896)]"
            ]
          },
          "metadata": {},
          "execution_count": 63
        }
      ]
    },
    {
      "cell_type": "code",
      "metadata": {
        "colab": {
          "base_uri": "https://localhost:8080/"
        },
        "id": "d2YDJK05P6q6",
        "outputId": "67d680cc-4878-4b46-eb3a-16e534bdf13c"
      },
      "source": [
        "d2v_model.wv.most_similar(positive=['investment'], topn=10)"
      ],
      "execution_count": 64,
      "outputs": [
        {
          "output_type": "execute_result",
          "data": {
            "text/plain": [
              "[('kazakh', 0.8047384023666382),\n",
              " ('properties', 0.7932325601577759),\n",
              " ('i.', 0.7827191352844238),\n",
              " ('storengy', 0.7797254323959351),\n",
              " ('sponda', 0.7475971579551697),\n",
              " ('fund', 0.7292584776878357),\n",
              " ('fair', 0.7207533717155457),\n",
              " ('metre', 0.7146191000938416),\n",
              " ('leases', 0.708655059337616),\n",
              " ('karhinen', 0.7076684832572937)]"
            ]
          },
          "metadata": {},
          "execution_count": 64
        }
      ]
    },
    {
      "cell_type": "code",
      "metadata": {
        "colab": {
          "base_uri": "https://localhost:8080/"
        },
        "id": "cIwTFa93P_71",
        "outputId": "cd416100-08d0-4101-f6df-abc49bccc9a6"
      },
      "source": [
        "d2v_model.wv.most_similar(positive=['broke'], topn=10)"
      ],
      "execution_count": 65,
      "outputs": [
        {
          "output_type": "execute_result",
          "data": {
            "text/plain": [
              "[('mold', 0.9735800623893738),\n",
              " ('macro-economic', 0.8925856947898865),\n",
              " ('gather', 0.8849804997444153),\n",
              " ('baby', 0.8606942296028137),\n",
              " ('remarked', 0.8504320383071899),\n",
              " ('aptly', 0.8480914831161499),\n",
              " ('my', 0.8433244228363037),\n",
              " ('umbrellas', 0.8422913551330566),\n",
              " ('sense', 0.8358508944511414),\n",
              " ('bibs', 0.8349252939224243)]"
            ]
          },
          "metadata": {},
          "execution_count": 65
        }
      ]
    },
    {
      "cell_type": "code",
      "metadata": {
        "id": "LfWWcal79Y3B",
        "outputId": "eaf20fc7-7d2e-4740-9fdb-7608e8bcd349",
        "colab": {
          "base_uri": "https://localhost:8080/"
        }
      },
      "source": [
        "print(embedding_matrix.shape)"
      ],
      "execution_count": 66,
      "outputs": [
        {
          "output_type": "stream",
          "name": "stdout",
          "text": [
            "(11684, 20)\n"
          ]
        }
      ]
    },
    {
      "cell_type": "code",
      "metadata": {
        "id": "m3yJffb9QEGV"
      },
      "source": [
        "from sklearn.manifold import TSNE\n",
        "import matplotlib.pyplot as plt\n",
        "%matplotlib inline\n",
        "\n",
        "def tsne_plot(model):\n",
        "    \"Creates and TSNE model and plots it\"\n",
        "    labels = []\n",
        "    tokens = []\n",
        "\n",
        "    for word in d2v_model.wv.vocab:\n",
        "        tokens.append(model[word])\n",
        "        labels.append(word)\n",
        "    \n",
        "    tsne_model = TSNE(perplexity=40, n_components=2, init='pca', n_iter=250, random_state=23)\n",
        "    new_values = tsne_model.fit_transform(tokens)\n",
        "\n",
        "    x = []\n",
        "    y = []\n",
        "    for value in new_values:\n",
        "        x.append(value[0])\n",
        "        y.append(value[1])\n",
        "        \n",
        "    plt.figure(figsize=(16, 16)) \n",
        "    for i in range(len(x)):\n",
        "        plt.scatter(x[i],y[i])\n",
        "        plt.annotate(labels[i],\n",
        "                     xy=(x[i], y[i]),\n",
        "                     xytext=(5, 2),\n",
        "                     textcoords='offset points',\n",
        "                     ha='right',\n",
        "                     va='bottom')\n",
        "    plt.show()"
      ],
      "execution_count": 67,
      "outputs": []
    },
    {
      "cell_type": "code",
      "metadata": {
        "id": "Xnn9eTDgSHTT"
      },
      "source": [
        "tsne_plot(d2v_model)"
      ],
      "execution_count": 91,
      "outputs": []
    },
    {
      "cell_type": "code",
      "metadata": {
        "colab": {
          "base_uri": "https://localhost:8080/"
        },
        "id": "FyQXzlxCHskn",
        "outputId": "cbd111b3-fb44-4d55-8590-c4c348593b2f"
      },
      "source": [
        "from keras.models import Sequential\n",
        "from keras.layers import LSTM, Dense, Embedding\n",
        "\n",
        "# init layer\n",
        "model = Sequential()\n",
        "\n",
        "# emmbed word vectors\n",
        "model.add(Embedding(len(d2v_model.wv.vocab)+1,20,input_length=X.shape[1],weights=[embedding_matrix],trainable=True))\n",
        "\n",
        "# learn the correlations\n",
        "def split_input(sequence):\n",
        "     return sequence[:-1], tf.reshape(sequence[1:], (-1,1))\n",
        "model.add(LSTM(50,return_sequences=False))\n",
        "model.add(Dense(3,activation=\"softmax\"))\n",
        "\n",
        "# output model skeleton\n",
        "model.summary()\n",
        "model.compile(optimizer=\"adam\",loss=\"binary_crossentropy\",metrics=['acc'])"
      ],
      "execution_count": 70,
      "outputs": [
        {
          "output_type": "stream",
          "name": "stdout",
          "text": [
            "Model: \"sequential_1\"\n",
            "_________________________________________________________________\n",
            " Layer (type)                Output Shape              Param #   \n",
            "=================================================================\n",
            " embedding_1 (Embedding)     (None, 50, 20)            233680    \n",
            "                                                                 \n",
            " lstm_1 (LSTM)               (None, 50)                14200     \n",
            "                                                                 \n",
            " dense_1 (Dense)             (None, 3)                 153       \n",
            "                                                                 \n",
            "=================================================================\n",
            "Total params: 248,033\n",
            "Trainable params: 248,033\n",
            "Non-trainable params: 0\n",
            "_________________________________________________________________\n"
          ]
        }
      ]
    },
    {
      "cell_type": "code",
      "metadata": {
        "colab": {
          "base_uri": "https://localhost:8080/",
          "height": 369
        },
        "id": "hNmAp4ErSUW_",
        "outputId": "74a944c2-eea0-4671-f5cd-25144a9367f9"
      },
      "source": [
        "from keras.utils.vis_utils import plot_model\n",
        "plot_model(model, to_file='model.png')"
      ],
      "execution_count": 74,
      "outputs": [
        {
          "output_type": "execute_result",
          "data": {
            "image/png": "[encoded data removed]",
            "text/plain": [
              "<IPython.core.display.Image object>"
            ]
          },
          "metadata": {},
          "execution_count": 74
        }
      ]
    },
    {
      "cell_type": "code",
      "metadata": {
        "colab": {
          "base_uri": "https://localhost:8080/"
        },
        "id": "xdb8SQzGSmB2",
        "outputId": "1a5db9a4-d51c-4ec3-b5cb-e46d25e2f352"
      },
      "source": [
        "Y = pd.get_dummies(df['sentiment']).values\n",
        "X_train, X_test, Y_train, Y_test = train_test_split(X,Y, test_size = 0.15, random_state = 42)\n",
        "print(X_train.shape,Y_train.shape)\n",
        "print(X_test.shape,Y_test.shape)"
      ],
      "execution_count": 75,
      "outputs": [
        {
          "output_type": "stream",
          "name": "stdout",
          "text": [
            "(4118, 50) (4118, 3)\n",
            "(727, 50) (727, 3)\n"
          ]
        }
      ]
    },
    {
      "cell_type": "code",
      "metadata": {
        "colab": {
          "base_uri": "https://localhost:8080/"
        },
        "id": "lejg5rFPStfr",
        "outputId": "3507d5a3-ef5f-4871-ae3f-27672cd2615d"
      },
      "source": [
        "batch_size = 32\n",
        "history=model.fit(X_train, Y_train, epochs =50, batch_size=batch_size, verbose = 2)"
      ],
      "execution_count": 76,
      "outputs": [
        {
          "output_type": "stream",
          "name": "stdout",
          "text": [
            "Epoch 1/50\n",
            "129/129 - 7s - loss: 0.5435 - acc: 0.6032 - 7s/epoch - 53ms/step\n",
            "Epoch 2/50\n",
            "129/129 - 4s - loss: 0.4093 - acc: 0.7181 - 4s/epoch - 28ms/step\n",
            "Epoch 3/50\n",
            "129/129 - 4s - loss: 0.2925 - acc: 0.7955 - 4s/epoch - 27ms/step\n",
            "Epoch 4/50\n",
            "129/129 - 4s - loss: 0.2339 - acc: 0.8392 - 4s/epoch - 28ms/step\n",
            "Epoch 5/50\n",
            "129/129 - 4s - loss: 0.2003 - acc: 0.8592 - 4s/epoch - 27ms/step\n",
            "Epoch 6/50\n",
            "129/129 - 3s - loss: 0.1652 - acc: 0.9000 - 3s/epoch - 27ms/step\n",
            "Epoch 7/50\n",
            "129/129 - 4s - loss: 0.1235 - acc: 0.9344 - 4s/epoch - 27ms/step\n",
            "Epoch 8/50\n",
            "129/129 - 4s - loss: 0.0849 - acc: 0.9599 - 4s/epoch - 28ms/step\n",
            "Epoch 9/50\n",
            "129/129 - 3s - loss: 0.0665 - acc: 0.9692 - 3s/epoch - 27ms/step\n",
            "Epoch 10/50\n",
            "129/129 - 4s - loss: 0.0476 - acc: 0.9791 - 4s/epoch - 27ms/step\n",
            "Epoch 11/50\n",
            "129/129 - 4s - loss: 0.0340 - acc: 0.9852 - 4s/epoch - 28ms/step\n",
            "Epoch 12/50\n",
            "129/129 - 4s - loss: 0.0315 - acc: 0.9852 - 4s/epoch - 27ms/step\n",
            "Epoch 13/50\n",
            "129/129 - 3s - loss: 0.0258 - acc: 0.9898 - 3s/epoch - 27ms/step\n",
            "Epoch 14/50\n",
            "129/129 - 4s - loss: 0.0230 - acc: 0.9903 - 4s/epoch - 27ms/step\n",
            "Epoch 15/50\n",
            "129/129 - 4s - loss: 0.0176 - acc: 0.9942 - 4s/epoch - 27ms/step\n",
            "Epoch 16/50\n",
            "129/129 - 4s - loss: 0.0204 - acc: 0.9922 - 4s/epoch - 27ms/step\n",
            "Epoch 17/50\n",
            "129/129 - 4s - loss: 0.0248 - acc: 0.9883 - 4s/epoch - 27ms/step\n",
            "Epoch 18/50\n",
            "129/129 - 4s - loss: 0.0247 - acc: 0.9893 - 4s/epoch - 27ms/step\n",
            "Epoch 19/50\n",
            "129/129 - 3s - loss: 0.0135 - acc: 0.9939 - 3s/epoch - 27ms/step\n",
            "Epoch 20/50\n",
            "129/129 - 3s - loss: 0.0100 - acc: 0.9959 - 3s/epoch - 27ms/step\n",
            "Epoch 21/50\n",
            "129/129 - 3s - loss: 0.0088 - acc: 0.9973 - 3s/epoch - 27ms/step\n",
            "Epoch 22/50\n",
            "129/129 - 3s - loss: 0.0076 - acc: 0.9973 - 3s/epoch - 27ms/step\n",
            "Epoch 23/50\n",
            "129/129 - 3s - loss: 0.0090 - acc: 0.9956 - 3s/epoch - 27ms/step\n",
            "Epoch 24/50\n",
            "129/129 - 4s - loss: 0.0088 - acc: 0.9973 - 4s/epoch - 27ms/step\n",
            "Epoch 25/50\n",
            "129/129 - 3s - loss: 0.0090 - acc: 0.9959 - 3s/epoch - 27ms/step\n",
            "Epoch 26/50\n",
            "129/129 - 3s - loss: 0.0134 - acc: 0.9954 - 3s/epoch - 27ms/step\n",
            "Epoch 27/50\n",
            "129/129 - 4s - loss: 0.0068 - acc: 0.9968 - 4s/epoch - 27ms/step\n",
            "Epoch 28/50\n",
            "129/129 - 3s - loss: 0.0051 - acc: 0.9973 - 3s/epoch - 27ms/step\n",
            "Epoch 29/50\n",
            "129/129 - 3s - loss: 0.0057 - acc: 0.9978 - 3s/epoch - 27ms/step\n",
            "Epoch 30/50\n",
            "129/129 - 3s - loss: 0.0056 - acc: 0.9976 - 3s/epoch - 27ms/step\n",
            "Epoch 31/50\n",
            "129/129 - 3s - loss: 0.0049 - acc: 0.9978 - 3s/epoch - 27ms/step\n",
            "Epoch 32/50\n",
            "129/129 - 3s - loss: 0.0040 - acc: 0.9981 - 3s/epoch - 27ms/step\n",
            "Epoch 33/50\n",
            "129/129 - 3s - loss: 0.0045 - acc: 0.9978 - 3s/epoch - 27ms/step\n",
            "Epoch 34/50\n",
            "129/129 - 4s - loss: 0.0039 - acc: 0.9978 - 4s/epoch - 27ms/step\n",
            "Epoch 35/50\n",
            "129/129 - 4s - loss: 0.0040 - acc: 0.9976 - 4s/epoch - 28ms/step\n",
            "Epoch 36/50\n",
            "129/129 - 4s - loss: 0.0081 - acc: 0.9966 - 4s/epoch - 27ms/step\n",
            "Epoch 37/50\n",
            "129/129 - 3s - loss: 0.0056 - acc: 0.9968 - 3s/epoch - 27ms/step\n",
            "Epoch 38/50\n",
            "129/129 - 3s - loss: 0.0059 - acc: 0.9971 - 3s/epoch - 27ms/step\n",
            "Epoch 39/50\n",
            "129/129 - 4s - loss: 0.0076 - acc: 0.9951 - 4s/epoch - 27ms/step\n",
            "Epoch 40/50\n",
            "129/129 - 3s - loss: 0.0058 - acc: 0.9968 - 3s/epoch - 27ms/step\n",
            "Epoch 41/50\n",
            "129/129 - 3s - loss: 0.0036 - acc: 0.9988 - 3s/epoch - 27ms/step\n",
            "Epoch 42/50\n",
            "129/129 - 3s - loss: 0.0028 - acc: 0.9983 - 3s/epoch - 27ms/step\n",
            "Epoch 43/50\n",
            "129/129 - 3s - loss: 0.0090 - acc: 0.9971 - 3s/epoch - 27ms/step\n",
            "Epoch 44/50\n",
            "129/129 - 3s - loss: 0.0082 - acc: 0.9966 - 3s/epoch - 27ms/step\n",
            "Epoch 45/50\n",
            "129/129 - 4s - loss: 0.0066 - acc: 0.9968 - 4s/epoch - 27ms/step\n",
            "Epoch 46/50\n",
            "129/129 - 3s - loss: 0.0035 - acc: 0.9976 - 3s/epoch - 27ms/step\n",
            "Epoch 47/50\n",
            "129/129 - 4s - loss: 0.0044 - acc: 0.9981 - 4s/epoch - 27ms/step\n",
            "Epoch 48/50\n",
            "129/129 - 4s - loss: 0.0050 - acc: 0.9973 - 4s/epoch - 27ms/step\n",
            "Epoch 49/50\n",
            "129/129 - 3s - loss: 0.0062 - acc: 0.9968 - 3s/epoch - 27ms/step\n",
            "Epoch 50/50\n",
            "129/129 - 3s - loss: 0.0030 - acc: 0.9990 - 3s/epoch - 27ms/step\n"
          ]
        }
      ]
    },
    {
      "cell_type": "code",
      "metadata": {
        "colab": {
          "base_uri": "https://localhost:8080/",
          "height": 590
        },
        "id": "nGbDCiFATdG6",
        "outputId": "8c0bfa15-bb14-40d8-e74e-30be5ac317ca"
      },
      "source": [
        "plt.plot(history.history['acc'])\n",
        "plt.title('model accuracy')\n",
        "plt.ylabel('acc')\n",
        "plt.xlabel('epochs')\n",
        "plt.legend(['train', 'test'], loc='upper left')\n",
        "plt.show()\n",
        "plt.savefig('model_accuracy.png')\n",
        "\n",
        "# summarize history for loss\n",
        "plt.plot(history.history['loss'])\n",
        "#plt.plot(history.history['val_loss'])\n",
        "plt.title('model loss')\n",
        "plt.ylabel('loss')\n",
        "plt.xlabel('epochs')\n",
        "plt.legend(['train', 'test'], loc='upper left')\n",
        "plt.show()\n",
        "plt.savefig('model_loss.png')"
      ],
      "execution_count": 77,
      "outputs": [
        {
          "output_type": "display_data",
          "data": {
            "image/png": "[encoded data removed]",
            "text/plain": [
              "<Figure size 432x288 with 1 Axes>"
            ]
          },
          "metadata": {
            "needs_background": "light"
          }
        },
        {
          "output_type": "display_data",
          "data": {
            "image/png": "[encoded data removed]",
            "text/plain": [
              "<Figure size 432x288 with 1 Axes>"
            ]
          },
          "metadata": {
            "needs_background": "light"
          }
        },
        {
          "output_type": "display_data",
          "data": {
            "text/plain": [
              "<Figure size 432x288 with 0 Axes>"
            ]
          },
          "metadata": {}
        }
      ]
    },
    {
      "cell_type": "code",
      "metadata": {
        "colab": {
          "base_uri": "https://localhost:8080/"
        },
        "id": "DithSwGzUpqU",
        "outputId": "cff1011b-8c63-4722-c748-223974b364e4"
      },
      "source": [
        "# evaluate the model\n",
        "_, train_acc = model.evaluate(X_train, Y_train, verbose=2)\n",
        "_, test_acc = model.evaluate(X_test, Y_test, verbose=2)\n",
        "print('Train: %.3f, Test: %.4f' % (train_acc, test_acc))"
      ],
      "execution_count": 78,
      "outputs": [
        {
          "output_type": "stream",
          "name": "stdout",
          "text": [
            "129/129 - 1s - loss: 0.0016 - acc: 0.9995 - 1s/epoch - 11ms/step\n",
            "23/23 - 0s - loss: 1.2188 - acc: 0.7166 - 180ms/epoch - 8ms/step\n",
            "Train: 1.000, Test: 0.7166\n"
          ]
        }
      ]
    },
    {
      "cell_type": "code",
      "metadata": {
        "colab": {
          "base_uri": "https://localhost:8080/"
        },
        "id": "677xm2dvUyK4",
        "outputId": "a58b5a21-dfdf-4b90-8b7a-64e5a029b1fc"
      },
      "source": [
        "# predict probabilities for test set\n",
        "yhat_probs = model.predict(X_test, verbose=0)\n",
        "print(yhat_probs)\n",
        "# predict crisp classes for test set\n",
        "# yhat_classes = model.predict_classes(X_test, verbose=0)\n",
        "\n",
        "\n",
        "predict_x=model.predict(X_test) \n",
        "yhat_classes=np.argmax(predict_x,axis=1)\n",
        "\n",
        "print(yhat_classes)\n",
        "# reduce to 1d array\n",
        "#yhat_probs = yhat_probs[:, 0]\n",
        "#yhat_classes = yhat_classes[:, 1"
      ],
      "execution_count": 79,
      "outputs": [
        {
          "output_type": "stream",
          "name": "stdout",
          "text": [
            "[[1.5627878e-02 9.8317921e-01 1.1928523e-03]\n",
            " [9.9999940e-01 2.5150445e-07 3.4776099e-07]\n",
            " [5.9471296e-07 9.9999905e-01 3.5634540e-07]\n",
            " ...\n",
            " [1.0000000e+00 1.9643982e-08 5.6987862e-08]\n",
            " [6.5936166e-07 9.9999905e-01 2.8322464e-07]\n",
            " [9.9999738e-01 2.4667859e-06 7.6687982e-08]]\n",
            "[1 0 1 0 1 1 1 1 1 1 1 1 0 2 1 1 1 1 1 2 1 1 0 0 1 0 1 1 0 2 1 1 1 2 1 0 2\n",
            " 0 1 1 0 1 2 1 0 1 1 1 0 1 2 1 0 2 1 0 1 1 0 1 0 0 0 0 1 1 1 1 1 2 1 1 0 1\n",
            " 0 1 1 1 1 0 1 2 0 1 0 0 1 0 1 0 0 1 1 2 1 1 0 1 0 1 2 1 1 2 0 1 1 1 2 1 1\n",
            " 1 2 1 1 0 0 0 0 0 0 0 0 1 1 1 1 1 0 1 1 0 2 1 0 1 0 1 1 1 1 1 1 1 1 1 2 1\n",
            " 0 1 1 0 1 0 1 0 0 1 2 2 0 1 1 0 1 0 1 2 1 0 1 0 0 1 0 2 0 0 1 0 1 0 0 1 1\n",
            " 2 1 0 1 1 1 0 0 1 1 0 1 1 1 0 1 1 1 1 1 0 1 1 0 1 0 1 1 1 1 1 1 2 1 0 0 1\n",
            " 1 1 1 1 1 0 1 1 1 0 1 1 2 0 1 1 1 1 1 1 1 0 0 1 1 1 1 1 1 1 0 2 2 0 1 1 1\n",
            " 1 1 0 1 0 2 2 0 1 1 1 1 1 2 1 1 1 1 0 0 0 1 0 1 1 1 1 1 1 0 1 0 2 0 2 2 1\n",
            " 1 1 0 1 0 1 1 1 1 2 1 0 1 0 1 2 0 1 1 1 1 1 1 0 1 1 0 1 0 1 1 0 1 1 1 1 1\n",
            " 1 0 1 1 0 0 1 0 0 1 0 1 2 1 0 1 1 0 1 0 2 1 1 0 1 2 1 1 1 0 1 0 0 0 2 1 0\n",
            " 0 0 1 1 1 1 1 1 0 2 0 0 2 1 0 1 0 1 0 1 1 1 1 0 1 2 0 1 1 0 0 1 1 1 2 2 1\n",
            " 0 1 1 2 1 1 0 1 2 0 1 1 0 1 0 0 1 2 1 1 1 0 1 0 0 1 1 1 1 0 0 2 1 1 0 1 1\n",
            " 0 1 1 0 0 2 1 1 1 0 1 0 2 1 1 0 1 0 1 0 1 2 1 0 1 1 1 1 1 1 1 1 1 0 1 0 1\n",
            " 0 1 0 1 1 2 1 0 0 1 1 0 1 1 0 1 1 1 2 1 1 1 1 1 1 1 1 1 1 0 0 0 1 0 0 1 1\n",
            " 2 0 0 1 0 1 1 1 1 0 0 1 1 1 0 1 1 1 1 1 1 1 1 1 1 0 1 1 0 0 1 1 0 1 1 1 1\n",
            " 2 2 0 1 2 1 0 2 0 1 0 1 0 2 1 1 1 1 0 0 1 1 1 2 1 1 1 0 1 1 0 1 1 1 1 1 1\n",
            " 0 0 0 1 1 1 2 0 0 1 0 1 2 0 2 1 2 1 0 1 1 0 1 1 0 2 1 0 0 2 1 1 1 0 0 1 0\n",
            " 1 1 1 1 1 1 1 1 0 1 1 2 1 1 1 1 1 0 1 1 2 0 0 2 0 1 2 2 0 1 1 2 0 1 1 1 2\n",
            " 1 1 1 0 1 1 1 1 0 1 1 1 0 2 1 1 1 1 1 0 1 0 1 0 1 0 1 0 0 2 1 1 1 1 1 1 1\n",
            " 0 1 0 1 1 1 0 1 2 1 1 1 1 1 1 0 0 1 1 1 1 0 1 0]\n"
          ]
        }
      ]
    },
    {
      "cell_type": "code",
      "metadata": {
        "colab": {
          "base_uri": "https://localhost:8080/"
        },
        "id": "SK72D4NnW7MC",
        "outputId": "8b23863b-13bf-4b87-8853-2deafe83af90"
      },
      "source": [
        "import numpy as np\n",
        "rounded_labels=np.argmax(Y_test, axis=1)\n",
        "rounded_labels"
      ],
      "execution_count": 80,
      "outputs": [
        {
          "output_type": "execute_result",
          "data": {
            "text/plain": [
              "array([1, 0, 1, 1, 1, 1, 1, 1, 1, 1, 1, 0, 1, 2, 1, 0, 1, 0, 0, 2, 2, 1,\n",
              "       0, 0, 1, 0, 1, 0, 0, 2, 1, 1, 0, 2, 1, 0, 2, 0, 1, 1, 0, 1, 2, 1,\n",
              "       0, 1, 1, 1, 0, 0, 2, 1, 0, 2, 1, 0, 1, 1, 1, 1, 0, 0, 0, 1, 2, 1,\n",
              "       0, 1, 1, 1, 1, 0, 0, 0, 0, 1, 0, 1, 1, 0, 1, 2, 0, 1, 0, 0, 0, 0,\n",
              "       0, 0, 0, 1, 2, 2, 1, 0, 1, 1, 0, 1, 2, 1, 1, 2, 1, 1, 1, 1, 1, 1,\n",
              "       1, 0, 2, 1, 1, 0, 0, 0, 0, 0, 0, 1, 1, 1, 1, 0, 0, 1, 0, 1, 2, 0,\n",
              "       1, 1, 0, 1, 0, 2, 1, 1, 1, 1, 1, 0, 1, 1, 1, 1, 0, 1, 1, 1, 1, 1,\n",
              "       1, 1, 1, 1, 2, 2, 0, 0, 1, 0, 1, 0, 1, 2, 1, 1, 1, 0, 1, 1, 0, 1,\n",
              "       1, 1, 1, 1, 0, 0, 1, 0, 1, 2, 1, 2, 1, 2, 1, 1, 0, 0, 1, 0, 2, 1,\n",
              "       2, 0, 1, 1, 0, 2, 1, 0, 1, 0, 0, 1, 1, 1, 1, 1, 1, 1, 1, 2, 0, 1,\n",
              "       0, 1, 1, 1, 2, 1, 1, 0, 1, 1, 1, 0, 0, 1, 2, 0, 1, 0, 1, 1, 1, 1,\n",
              "       1, 2, 0, 0, 0, 1, 1, 1, 1, 1, 0, 1, 1, 1, 1, 1, 1, 1, 1, 0, 1, 0,\n",
              "       2, 1, 2, 1, 1, 0, 1, 1, 2, 0, 1, 1, 1, 1, 1, 0, 1, 0, 1, 1, 0, 1,\n",
              "       1, 1, 2, 1, 0, 1, 0, 2, 2, 1, 1, 1, 0, 1, 0, 1, 1, 2, 1, 2, 1, 0,\n",
              "       1, 0, 1, 2, 1, 1, 0, 1, 1, 1, 1, 0, 1, 1, 0, 1, 0, 1, 1, 0, 1, 1,\n",
              "       1, 1, 0, 0, 0, 0, 0, 0, 1, 1, 1, 1, 0, 1, 1, 1, 2, 0, 2, 1, 0, 1,\n",
              "       1, 1, 1, 1, 0, 1, 2, 0, 1, 1, 1, 1, 0, 0, 1, 2, 1, 0, 0, 0, 1, 1,\n",
              "       1, 0, 1, 0, 2, 0, 0, 1, 2, 1, 0, 1, 0, 1, 1, 1, 1, 0, 1, 0, 1, 2,\n",
              "       2, 1, 0, 1, 1, 0, 1, 1, 2, 2, 0, 1, 1, 1, 1, 1, 0, 0, 1, 2, 0, 1,\n",
              "       1, 0, 2, 0, 1, 2, 2, 1, 1, 2, 1, 1, 0, 0, 1, 1, 1, 1, 1, 0, 2, 0,\n",
              "       1, 0, 1, 1, 1, 1, 0, 2, 1, 2, 1, 1, 1, 1, 1, 1, 2, 1, 1, 0, 1, 1,\n",
              "       1, 1, 1, 1, 1, 2, 1, 2, 1, 1, 1, 1, 1, 1, 0, 1, 1, 0, 1, 0, 1, 0,\n",
              "       1, 1, 1, 1, 0, 0, 1, 1, 1, 1, 1, 1, 1, 0, 1, 1, 1, 2, 1, 1, 0, 1,\n",
              "       1, 1, 1, 1, 2, 0, 0, 1, 0, 1, 0, 1, 1, 1, 1, 0, 0, 1, 1, 1, 0, 0,\n",
              "       1, 1, 2, 1, 0, 1, 1, 1, 1, 1, 1, 1, 1, 0, 1, 0, 1, 1, 0, 0, 2, 0,\n",
              "       0, 1, 1, 1, 1, 0, 2, 1, 0, 1, 1, 0, 2, 2, 1, 0, 1, 0, 2, 0, 0, 1,\n",
              "       1, 1, 1, 1, 1, 1, 2, 1, 1, 0, 0, 1, 1, 0, 1, 1, 1, 1, 0, 1, 1, 0,\n",
              "       0, 1, 1, 1, 2, 1, 1, 1, 1, 1, 1, 0, 2, 1, 2, 1, 0, 1, 0, 0, 0, 1,\n",
              "       1, 2, 1, 0, 2, 2, 1, 0, 1, 0, 1, 1, 0, 1, 0, 0, 2, 0, 0, 1, 1, 0,\n",
              "       1, 1, 1, 1, 1, 1, 1, 0, 0, 1, 1, 2, 0, 0, 0, 0, 1, 0, 2, 0, 1, 1,\n",
              "       0, 1, 1, 1, 1, 2, 1, 1, 1, 1, 1, 1, 1, 1, 1, 1, 1, 1, 0, 2, 1, 0,\n",
              "       1, 1, 1, 2, 0, 0, 1, 0, 1, 2, 1, 1, 1, 2, 1, 0, 1, 1, 1, 0, 1, 1,\n",
              "       2, 0, 1, 1, 1, 0, 1, 2, 1, 1, 1, 1, 0, 0, 0, 0, 1, 0, 1, 0, 1, 0,\n",
              "       0])"
            ]
          },
          "metadata": {},
          "execution_count": 80
        }
      ]
    },
    {
      "cell_type": "code",
      "metadata": {
        "colab": {
          "base_uri": "https://localhost:8080/"
        },
        "id": "X5J70v-JXD4l",
        "outputId": "7e04b06f-6946-473b-c97e-d4ce06ad3f98"
      },
      "source": [
        "from sklearn.metrics import confusion_matrix\n",
        "cm = confusion_matrix(rounded_labels, yhat_classes)\n",
        "cm"
      ],
      "execution_count": 81,
      "outputs": [
        {
          "output_type": "execute_result",
          "data": {
            "text/plain": [
              "array([[132,  78,   5],\n",
              "       [ 69, 338,  19],\n",
              "       [ 13,  22,  51]])"
            ]
          },
          "metadata": {},
          "execution_count": 81
        }
      ]
    },
    {
      "cell_type": "code",
      "metadata": {
        "colab": {
          "base_uri": "https://localhost:8080/",
          "height": 350
        },
        "id": "hbSiI2K9XJIV",
        "outputId": "92739726-fa3d-4aa6-9dd6-efe85b2e51d4"
      },
      "source": [
        "# The confusion matrix\n",
        "from sklearn.metrics import confusion_matrix\n",
        "import seaborn as sns\n",
        "\n",
        "lstm_val = confusion_matrix(rounded_labels, yhat_classes)\n",
        "f, ax = plt.subplots(figsize=(5,5))\n",
        "sns.heatmap(lstm_val, annot=True, linewidth=0.7, linecolor='cyan', fmt='g', ax=ax, cmap=\"BuPu\")\n",
        "plt.title('LSTM Classification Confusion Matrix')\n",
        "plt.xlabel('Y predict')\n",
        "plt.ylabel('Y test')\n",
        "plt.show()\n",
        "\n"
      ],
      "execution_count": 82,
      "outputs": [
        {
          "output_type": "display_data",
          "data": {
            "image/png": "[encoded data removed]",
            "text/plain": [
              "<Figure size 360x360 with 2 Axes>"
            ]
          },
          "metadata": {
            "needs_background": "light"
          }
        }
      ]
    },
    {
      "cell_type": "code",
      "metadata": {
        "colab": {
          "base_uri": "https://localhost:8080/"
        },
        "id": "fhE0L9foXV_9",
        "outputId": "6439f685-b8ab-43a4-b143-1052f82c92a3"
      },
      "source": [
        "validation_size = 610\n",
        "\n",
        "X_validate = X_test[-validation_size:]\n",
        "Y_validate = Y_test[-validation_size:]\n",
        "X_test = X_test[:-validation_size]\n",
        "Y_test = Y_test[:-validation_size]\n",
        "score,acc = model.evaluate(X_test, Y_test, verbose = 1, batch_size = batch_size)\n",
        "\n",
        "print(\"score: %.2f\" % (score))\n",
        "print(\"acc: %.2f\" % (acc))"
      ],
      "execution_count": 83,
      "outputs": [
        {
          "output_type": "stream",
          "name": "stdout",
          "text": [
            "4/4 [==============================] - 0s 9ms/step - loss: 1.1923 - acc: 0.7778\n",
            "score: 1.19\n",
            "acc: 0.78\n"
          ]
        }
      ]
    },
    {
      "cell_type": "code",
      "metadata": {
        "id": "jPs_fQhkXgGa"
      },
      "source": [
        "model.save('Mymodel.h5')"
      ],
      "execution_count": 84,
      "outputs": []
    },
    {
      "cell_type": "code",
      "metadata": {
        "colab": {
          "base_uri": "https://localhost:8080/"
        },
        "id": "941ljYNpXmuL",
        "outputId": "a0675cbb-47d1-4370-cfa2-5413f55299ab"
      },
      "source": [
        "message = ['Congratulations! you have won a $1,000 Walmart gift card']\n",
        "seq = tokenizer.texts_to_sequences(message)\n",
        "\n",
        "padded = pad_sequences(seq, maxlen=X.shape[1], dtype='int32', value=0)\n",
        "\n",
        "pred = model.predict(padded)\n",
        "\n",
        "labels = ['0','1','2']\n",
        "print(pred, labels[np.argmax(pred)])"
      ],
      "execution_count": 85,
      "outputs": [
        {
          "output_type": "stream",
          "name": "stdout",
          "text": [
            "[[0.57859784 0.23783238 0.18356973]] 0\n"
          ]
        }
      ]
    },
    {
      "cell_type": "code",
      "metadata": {
        "colab": {
          "base_uri": "https://localhost:8080/"
        },
        "id": "9I5TlIDmXtSW",
        "outputId": "a6061f8c-fee4-4d37-ecbb-7092bbabcd87"
      },
      "source": [
        "message = ['such massive asteroid hit will certainly create new business opportunities']\n",
        "seq = tokenizer.texts_to_sequences(message)\n",
        "\n",
        "padded = pad_sequences(seq, maxlen=X.shape[1], dtype='int32', value=0)\n",
        "\n",
        "pred = model.predict(padded)\n",
        "\n",
        "labels = ['0','1','2']\n",
        "print(pred, labels[np.argmax(pred)])"
      ],
      "execution_count": 86,
      "outputs": [
        {
          "output_type": "stream",
          "name": "stdout",
          "text": [
            "[[7.364311e-03 6.561475e-05 9.925701e-01]] 2\n"
          ]
        }
      ]
    },
    {
      "cell_type": "code",
      "metadata": {
        "colab": {
          "base_uri": "https://localhost:8080/"
        },
        "id": "NgOTabGbXyCx",
        "outputId": "43e39dc8-0b4e-4e3d-8958-4a9fc337f1c9"
      },
      "source": [
        "message = ['so does anyone else not open Snapchat anymore ? or is it just me ... ugh this so sad.']\n",
        "seq = tokenizer.texts_to_sequences(message)\n",
        "\n",
        "padded = pad_sequences(seq, maxlen=X.shape[1], dtype='int32', value=0)\n",
        "\n",
        "pred = model.predict(padded)\n",
        "\n",
        "labels = ['0','1','2']\n",
        "print(pred, labels[np.argmax(pred)])"
      ],
      "execution_count": 87,
      "outputs": [
        {
          "output_type": "stream",
          "name": "stdout",
          "text": [
            "[[1.9118621e-10 1.0000000e+00 6.3944516e-11]] 1\n"
          ]
        }
      ]
    },
    {
      "cell_type": "code",
      "metadata": {
        "colab": {
          "base_uri": "https://localhost:8080/"
        },
        "id": "N2RqtB6AX6ux",
        "outputId": "e4235300-3140-4d82-dc62-a8f38d7d097b"
      },
      "source": [
        "\n",
        "\n",
        "message = ['@elonmusk had a terrible experience with a very pushy sales guy from tesla Stanford shop while shopping for model x']\n",
        "seq = tokenizer.texts_to_sequences(message)\n",
        "\n",
        "padded = pad_sequences(seq, maxlen=X.shape[1], dtype='int32', value=0)\n",
        "\n",
        "pred = model.predict(padded)\n",
        "\n",
        "labels = ['0','1','2']\n",
        "print(pred, labels[np.argmax(pred)])\n",
        "\n"
      ],
      "execution_count": 88,
      "outputs": [
        {
          "output_type": "stream",
          "name": "stdout",
          "text": [
            "[[9.9997735e-01 1.9054492e-05 3.6117283e-06]] 0\n"
          ]
        }
      ]
    },
    {
      "cell_type": "code",
      "metadata": {
        "colab": {
          "base_uri": "https://localhost:8080/"
        },
        "id": "IVH8-DXjX9DC",
        "outputId": "5f348541-acba-4002-cc09-0542a7b3c271"
      },
      "source": [
        "message = ['The local electronics industry is expected to remain stable amid layoff concerns surrounding Japanese electronics giants operating in the country, an official says.']\n",
        "seq = tokenizer.texts_to_sequences(message)\n",
        "\n",
        "padded = pad_sequences(seq, maxlen=X.shape[1], dtype='int32', value=0)\n",
        "\n",
        "pred = model.predict(padded)\n",
        "\n",
        "labels = ['0','1','2']\n",
        "print(pred, labels[np.argmax(pred)])"
      ],
      "execution_count": 89,
      "outputs": [
        {
          "output_type": "stream",
          "name": "stdout",
          "text": [
            "[[3.5936840e-09 1.0000000e+00 1.0679264e-09]] 1\n"
          ]
        }
      ]
    },
    {
      "cell_type": "code",
      "metadata": {
        "colab": {
          "base_uri": "https://localhost:8080/"
        },
        "id": "jZdNQgueYCV6",
        "outputId": "0d86b058-efd7-4c79-d03f-8bb5cf560a32"
      },
      "source": [
        "message = ['The local electronics industry is amid layoff concerns and last year has laid off tens of employees']\n",
        "seq = tokenizer.texts_to_sequences(message)\n",
        "\n",
        "padded = pad_sequences(seq, maxlen=X.shape[1], dtype='int32', value=0)\n",
        "\n",
        "pred = model.predict(padded)\n",
        "\n",
        "labels = ['0','1','2']\n",
        "print(pred, labels[np.argmax(pred)])"
      ],
      "execution_count": 90,
      "outputs": [
        {
          "output_type": "stream",
          "name": "stdout",
          "text": [
            "[[1.5458140e-07 5.9431393e-08 9.9999976e-01]] 2\n"
          ]
        }
      ]
    }
  ]
}