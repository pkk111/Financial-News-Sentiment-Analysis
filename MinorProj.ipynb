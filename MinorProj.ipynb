{
  "nbformat": 4,
  "nbformat_minor": 0,
  "metadata": {
    "colab": {
      "name": "MinorProj.ipynb",
      "provenance": [],
      "collapsed_sections": [],
      "toc_visible": true
    },
    "kernelspec": {
      "name": "python3",
      "display_name": "Python 3"
    },
    "language_info": {
      "name": "python"
    }
  },
  "cells": [
    {
      "cell_type": "markdown",
      "metadata": {
        "id": "wZAtGi2QZOiH"
      },
      "source": [
        "## Importing Dataset and libraries"
      ]
    },
    {
      "cell_type": "code",
      "metadata": {
        "id": "PTo6ZlnILNPi",
        "colab": {
          "base_uri": "https://localhost:8080/"
        },
        "outputId": "5294b829-8163-49d6-9418-0c4dbcfd8f6c"
      },
      "source": [
        "import pandas as pd\n",
        "import numpy as np\n",
        "from tqdm import tqdm\n",
        "from keras.preprocessing.text import Tokenizer\n",
        "tqdm.pandas(desc=\"progress-bar\")\n",
        "from gensim.models import Doc2Vec\n",
        "from sklearn import utils\n",
        "from sklearn.model_selection import train_test_split\n",
        "from keras.preprocessing.sequence import pad_sequences\n",
        "import gensim\n",
        "from sklearn.linear_model import LogisticRegression\n",
        "from gensim.models.doc2vec import TaggedDocument\n",
        "import re\n",
        "import seaborn as sns\n",
        "import matplotlib.pyplot as plt\n",
        "import nltk\n",
        "from nltk.corpus import stopwords\n",
        "\n",
        "nltk.download('punkt')\n",
        "nltk.download('stopwords')"
      ],
      "execution_count": 1,
      "outputs": [
        {
          "output_type": "stream",
          "name": "stdout",
          "text": [
            "[nltk_data] Downloading package punkt to /root/nltk_data...\n",
            "[nltk_data]   Package punkt is already up-to-date!\n",
            "[nltk_data] Downloading package stopwords to /root/nltk_data...\n",
            "[nltk_data]   Package stopwords is already up-to-date!\n"
          ]
        },
        {
          "output_type": "execute_result",
          "data": {
            "text/plain": [
              "True"
            ]
          },
          "metadata": {},
          "execution_count": 1
        }
      ]
    },
    {
      "cell_type": "code",
      "metadata": {
        "colab": {
          "base_uri": "https://localhost:8080/",
          "height": 0
        },
        "id": "CFTSskC7L0_G",
        "outputId": "639e16bf-4314-4237-c17f-a19bdd2d0fb1"
      },
      "source": [
        "url = \"https://raw.githubusercontent.com/pkk111/Financial-News-Sentiment-Analysis/main/all-data.csv\"\n",
        "df = pd.read_csv(url, delimiter=',',encoding='latin-1')\n",
        "df.head()"
      ],
      "execution_count": 2,
      "outputs": [
        {
          "output_type": "execute_result",
          "data": {
            "text/html": [
              "<div>\n",
              "<style scoped>\n",
              "    .dataframe tbody tr th:only-of-type {\n",
              "        vertical-align: middle;\n",
              "    }\n",
              "\n",
              "    .dataframe tbody tr th {\n",
              "        vertical-align: top;\n",
              "    }\n",
              "\n",
              "    .dataframe thead th {\n",
              "        text-align: right;\n",
              "    }\n",
              "</style>\n",
              "<table border=\"1\" class=\"dataframe\">\n",
              "  <thead>\n",
              "    <tr style=\"text-align: right;\">\n",
              "      <th></th>\n",
              "      <th>neutral</th>\n",
              "      <th>According to Gran , the company has no plans to move all production to Russia , although that is where the company is growing .</th>\n",
              "    </tr>\n",
              "  </thead>\n",
              "  <tbody>\n",
              "    <tr>\n",
              "      <th>0</th>\n",
              "      <td>neutral</td>\n",
              "      <td>Technopolis plans to develop in stages an area...</td>\n",
              "    </tr>\n",
              "    <tr>\n",
              "      <th>1</th>\n",
              "      <td>negative</td>\n",
              "      <td>The international electronic industry company ...</td>\n",
              "    </tr>\n",
              "    <tr>\n",
              "      <th>2</th>\n",
              "      <td>positive</td>\n",
              "      <td>With the new production plant the company woul...</td>\n",
              "    </tr>\n",
              "    <tr>\n",
              "      <th>3</th>\n",
              "      <td>positive</td>\n",
              "      <td>According to the company 's updated strategy f...</td>\n",
              "    </tr>\n",
              "    <tr>\n",
              "      <th>4</th>\n",
              "      <td>positive</td>\n",
              "      <td>FINANCING OF ASPOCOMP 'S GROWTH Aspocomp is ag...</td>\n",
              "    </tr>\n",
              "  </tbody>\n",
              "</table>\n",
              "</div>"
            ],
            "text/plain": [
              "    neutral According to Gran , the company has no plans to move all production to Russia , although that is where the company is growing .\n",
              "0   neutral  Technopolis plans to develop in stages an area...                                                                             \n",
              "1  negative  The international electronic industry company ...                                                                             \n",
              "2  positive  With the new production plant the company woul...                                                                             \n",
              "3  positive  According to the company 's updated strategy f...                                                                             \n",
              "4  positive  FINANCING OF ASPOCOMP 'S GROWTH Aspocomp is ag...                                                                             "
            ]
          },
          "metadata": {},
          "execution_count": 2
        }
      ]
    },
    {
      "cell_type": "code",
      "metadata": {
        "id": "U19_ZlaqNDNG"
      },
      "source": [
        "df = df.rename(columns={'neutral':'sentiment','According to Gran , the company has no plans to move all production to Russia , although that is where the company is growing .':'Message'})"
      ],
      "execution_count": 3,
      "outputs": []
    },
    {
      "cell_type": "code",
      "metadata": {
        "colab": {
          "base_uri": "https://localhost:8080/"
        },
        "id": "i3hpBFQcNHc1",
        "outputId": "dd0a24ec-d123-4da3-e6a9-2a669f078dac"
      },
      "source": [
        "df.shape"
      ],
      "execution_count": 4,
      "outputs": [
        {
          "output_type": "execute_result",
          "data": {
            "text/plain": [
              "(4845, 2)"
            ]
          },
          "metadata": {},
          "execution_count": 4
        }
      ]
    },
    {
      "cell_type": "code",
      "metadata": {
        "colab": {
          "base_uri": "https://localhost:8080/"
        },
        "id": "qPr5Q-KzNLMe",
        "outputId": "e438a4d8-884a-4656-a0f4-fed70a0a6046"
      },
      "source": [
        "df.index = range(4845)\n",
        "df['Message'].apply(lambda x: len(x.split(' '))).sum()"
      ],
      "execution_count": 5,
      "outputs": [
        {
          "output_type": "execute_result",
          "data": {
            "text/plain": [
              "111964"
            ]
          },
          "metadata": {},
          "execution_count": 5
        }
      ]
    },
    {
      "cell_type": "code",
      "metadata": {
        "colab": {
          "base_uri": "https://localhost:8080/",
          "height": 0
        },
        "id": "GwZ_5eRYNOwt",
        "outputId": "be8023f4-d081-434c-f6d2-a2310bf5abe2"
      },
      "source": [
        "cnt_pro = df['sentiment'].value_counts()\n",
        "plt.figure(figsize=(12,4))\n",
        "sns.barplot(cnt_pro.index, cnt_pro.values, alpha=0.8)\n",
        "plt.ylabel('Number of Occurrences', fontsize=12)\n",
        "plt.xlabel('sentiment', fontsize=12)\n",
        "plt.xticks(rotation=90)\n",
        "plt.show();"
      ],
      "execution_count": 6,
      "outputs": [
        {
          "output_type": "stream",
          "name": "stderr",
          "text": [
            "/usr/local/lib/python3.7/dist-packages/seaborn/_decorators.py:43: FutureWarning: Pass the following variables as keyword args: x, y. From version 0.12, the only valid positional argument will be `data`, and passing other arguments without an explicit keyword will result in an error or misinterpretation.\n",
            "  FutureWarning\n"
          ]
        },
        {
          "output_type": "display_data",
          "data": {
            "image/png": "[encoded data removed]",
            "text/plain": [
              "<Figure size 864x288 with 1 Axes>"
            ]
          },
          "metadata": {
            "needs_background": "light"
          }
        }
      ]
    },
    {
      "cell_type": "code",
      "metadata": {
        "colab": {
          "base_uri": "https://localhost:8080/"
        },
        "id": "ad0lgeglNT4H",
        "outputId": "a4ce9071-2228-45c2-bc73-dd8309ed71b4"
      },
      "source": [
        "#Convert sting to numeric\n",
        "sentiment  = {'positive': 0,'neutral': 1,'negative':2} \n",
        "\n",
        "df.sentiment = [sentiment[item] for item in df.sentiment] \n",
        "print(df)"
      ],
      "execution_count": 7,
      "outputs": [
        {
          "output_type": "stream",
          "name": "stdout",
          "text": [
            "      sentiment                                            Message\n",
            "0             1  Technopolis plans to develop in stages an area...\n",
            "1             2  The international electronic industry company ...\n",
            "2             0  With the new production plant the company woul...\n",
            "3             0  According to the company 's updated strategy f...\n",
            "4             0  FINANCING OF ASPOCOMP 'S GROWTH Aspocomp is ag...\n",
            "...         ...                                                ...\n",
            "4840          2  LONDON MarketWatch -- Share prices ended lower...\n",
            "4841          1  Rinkuskiai 's beer sales fell by 6.5 per cent ...\n",
            "4842          2  Operating profit fell to EUR 35.4 mn from EUR ...\n",
            "4843          2  Net sales of the Paper segment decreased to EU...\n",
            "4844          2  Sales in Finland decreased by 10.5 % in Januar...\n",
            "\n",
            "[4845 rows x 2 columns]\n"
          ]
        }
      ]
    },
    {
      "cell_type": "code",
      "metadata": {
        "colab": {
          "base_uri": "https://localhost:8080/"
        },
        "id": "-ul9mX4ANZGm",
        "outputId": "04d643a7-9d5f-42f3-b4e0-cf02105c2624"
      },
      "source": [
        "def print_message(index):\n",
        "    example = df[df.index == index][['sentiment', 'Message']].values[0]\n",
        "    if len(example) > 0:\n",
        "        print(example[0])\n",
        "        print('Message:', example[1])\n",
        "print_message(12)"
      ],
      "execution_count": 8,
      "outputs": [
        {
          "output_type": "stream",
          "name": "stdout",
          "text": [
            "0\n",
            "Message: Finnish Talentum reports its operating profit increased to EUR 20.5 mn in 2005 from EUR 9.3 mn in 2004 , and net sales totaled EUR 103.3 mn , up from EUR 96.4 mn .\n"
          ]
        }
      ]
    },
    {
      "cell_type": "code",
      "metadata": {
        "colab": {
          "base_uri": "https://localhost:8080/"
        },
        "id": "Zjv5YP_SNdJw",
        "outputId": "354ba9fc-95f9-4863-9950-dd60f57b8a2e"
      },
      "source": [
        "print_message(0)"
      ],
      "execution_count": 9,
      "outputs": [
        {
          "output_type": "stream",
          "name": "stdout",
          "text": [
            "1\n",
            "Message: Technopolis plans to develop in stages an area of no less than 100,000 square meters in order to host companies working in computer technologies and telecommunications , the statement said .\n"
          ]
        }
      ]
    },
    {
      "cell_type": "markdown",
      "metadata": {
        "id": "MndgzGyPZXbL"
      },
      "source": [
        "## Preprocessing"
      ]
    },
    {
      "cell_type": "code",
      "metadata": {
        "id": "qIvXA_isNkWu"
      },
      "source": [
        "from bs4 import BeautifulSoup\n",
        "def cleanText(text):\n",
        "    text = BeautifulSoup(text, \"lxml\").text\n",
        "    text = re.sub(r'\\|\\|\\|', r' ', text) \n",
        "    text = re.sub(r'http\\S+', r'<URL>', text)\n",
        "    text = text.lower()\n",
        "    text = text.replace('x', '')\n",
        "    return text\n",
        "df['Message'] = df['Message'].apply(cleanText)"
      ],
      "execution_count": 10,
      "outputs": []
    },
    {
      "cell_type": "markdown",
      "metadata": {
        "id": "EWXT0zwCZe9V"
      },
      "source": [
        "## NEW Preprocessing"
      ]
    },
    {
      "cell_type": "code",
      "metadata": {
        "id": "tvLaE0QvZa2G"
      },
      "source": [
        "from nltk.stem.porter import PorterStemmer\n",
        "\n",
        "corpus = []\n",
        "\n",
        "def process_text(message):\n",
        "  message = re.sub('[^a-zA-Z0-9]', ' ', message)\n",
        "  message = re.sub(r'http\\S+', r'<URL>', message)\n",
        "  message = message.lower()\n",
        "  message = message.split()\n",
        "\n",
        "  ps = PorterStemmer()\n",
        "  all_stopwords = stopwords.words('english')\n",
        "  all_stopwords.remove('not')\n",
        "  all_stopwords.append('investment')\n",
        "  message = [ps.stem(word) for word in message]# if not word in set(all_stopwords)]\n",
        "  message = ' '.join(message)\n",
        "  corpus.append(message)\n",
        "  return message\n",
        "\n",
        "df['Message'] = df['Message'].apply(process_text)"
      ],
      "execution_count": 10,
      "outputs": []
    },
    {
      "cell_type": "markdown",
      "metadata": {
        "id": "wQrlinm5ZsUR"
      },
      "source": [
        "## Feature Extraction"
      ]
    },
    {
      "cell_type": "code",
      "metadata": {
        "colab": {
          "base_uri": "https://localhost:8080/"
        },
        "id": "po0T0eOqNpq-",
        "outputId": "700f19f1-b4f5-41f4-bb56-9c09e3c309ee"
      },
      "source": [
        "train, test = train_test_split(df, test_size=0.000001 , random_state=42)\n",
        "\n",
        "def tokenize_text(text):\n",
        "    tokens = []\n",
        "    for sent in nltk.sent_tokenize(text):\n",
        "        for word in nltk.word_tokenize(sent):\n",
        "            #if len(word) < 0:\n",
        "            if len(word) <= 0:\n",
        "                continue\n",
        "            tokens.append(word.lower())\n",
        "    return tokens\n",
        "train_tagged = train.apply(\n",
        "    lambda r: TaggedDocument(words=tokenize_text(r['Message']), tags=[r.sentiment]), axis=1)\n",
        "test_tagged = test.apply(\n",
        "    lambda r: TaggedDocument(words=tokenize_text(r['Message']), tags=[r.sentiment]), axis=1)\n",
        "\n",
        "# The maximum number of words to be used. (most frequent)\n",
        "max_fatures = 500000\n",
        "\n",
        "# Max number of words in each complaint.\n",
        "MAX_SEQUENCE_LENGTH = 50\n",
        "\n",
        "#tokenizer = Tokenizer(num_words=max_fatures, split=' ')\n",
        "tokenizer = Tokenizer(num_words=max_fatures, split=' ', filters='!\"#$%&()*+,-./:;<=>?@[\\]^_`{|}~', lower=True)\n",
        "tokenizer.fit_on_texts(df['Message'].values)\n",
        "X = tokenizer.texts_to_sequences(df['Message'].values)\n",
        "X = pad_sequences(X)\n",
        "print('Found %s unique tokens.' % len(X))"
      ],
      "execution_count": 11,
      "outputs": [
        {
          "output_type": "stream",
          "name": "stdout",
          "text": [
            "Found 4845 unique tokens.\n"
          ]
        }
      ]
    },
    {
      "cell_type": "code",
      "metadata": {
        "colab": {
          "base_uri": "https://localhost:8080/"
        },
        "id": "yT2PbAEfPFCw",
        "outputId": "24c89e05-405f-4606-e2b1-ad47dc331eb9"
      },
      "source": [
        "X = tokenizer.texts_to_sequences(df['Message'].values)\n",
        "X = pad_sequences(X, maxlen=MAX_SEQUENCE_LENGTH)\n",
        "print('Shape of data tensor:', X.shape)"
      ],
      "execution_count": 12,
      "outputs": [
        {
          "output_type": "stream",
          "name": "stdout",
          "text": [
            "Shape of data tensor: (4845, 50)\n"
          ]
        }
      ]
    },
    {
      "cell_type": "code",
      "metadata": {
        "colab": {
          "base_uri": "https://localhost:8080/"
        },
        "id": "aLoWOarbPHE1",
        "outputId": "7217e5c8-c4c5-4088-c59b-ef4d63a16900"
      },
      "source": [
        "#train_tagged.values[2173]\n",
        "train_tagged.values"
      ],
      "execution_count": 13,
      "outputs": [
        {
          "output_type": "execute_result",
          "data": {
            "text/plain": [
              "array([TaggedDocument(words=['upm-kymmene', 'has', 'generated', 'four', 'consecutive', 'quarters', 'of', 'positive', 'free', 'cash', 'flow', '.'], tags=[0]),\n",
              "       TaggedDocument(words=['in', 'the', 'method', 'the', 'smelt', 'spouts', '2', 'are', 'separated', 'from', 'the', 'working', 'area', '6', 'by', 'a', 'shielding', 'wall', '8', ',', '10', 'arranged', 'movable', 'in', 'relation', 'to', 'the', 'smelt', 'spouts', '.'], tags=[1]),\n",
              "       TaggedDocument(words=['``', 'that', \"'s\", 'a', 'very', 'high', 'figure', 'on', 'the', 'european', 'scale', ',', \"''\", 'noop', 'said', ',', 'recalling', 'however', 'that', 'this', 'also', 'includes', 'beer', 'bought', 'by', 'finnish', 'tourists', '.'], tags=[1]),\n",
              "       ...,\n",
              "       TaggedDocument(words=['proha', 'plc', '(', 'euronet', ':7327', ')', 'announced', 'today', '(', '19', 'may', ')', 'that', 'its', 'fully-owned', 'subsidiary', ',', 'safran', 'software', 'solutions', 'as', ',', 'has', 'agreed', 'to', 'sell', 'its', '49', '%', 'share', 'of', 'safran', 'north', 'america', 'llc', 'to', 'a', 'sna', 'holding', 'as', ',', 'an', 'investment', 'group', 'based', 'in', 'norway', '.'], tags=[1]),\n",
              "       TaggedDocument(words=['the', 'building', 'will', 'house', 'product', 'development', 'and', 'test', 'laboratories', '.'], tags=[1]),\n",
              "       TaggedDocument(words=['(', 'adp', 'news', ')', '-', 'oct', '31', ',', '2008', '-', 'finnish', 'food', 'company', 'raisio', 'oyj', '(', 'om', ':', 'raivv', ')', 'said', 'today', 'that', 'its', 'net', 'profit', 'jumped', 'to', 'eur', '16.4', 'million', '(', 'usd', '20.9', 'm', ')', 'for', 'the', 'first', 'nine', 'months', 'of', '2008', 'from', 'eur', '1.1', 'million', 'for', 'the', 'same', 'period', 'of', '2'], tags=[0])],\n",
              "      dtype=object)"
            ]
          },
          "metadata": {},
          "execution_count": 13
        }
      ]
    },
    {
      "cell_type": "code",
      "metadata": {
        "colab": {
          "base_uri": "https://localhost:8080/"
        },
        "id": "F3ktMn35PRdg",
        "outputId": "39f81c7f-a626-465c-fafc-7a5dc6300245"
      },
      "source": [
        "d2v_model = Doc2Vec(dm=1, dm_mean=1, size=20, window=8, min_count=1, workers=1, alpha=0.065, min_alpha=0.065)\n",
        "d2v_model.build_vocab([x for x in tqdm(train_tagged.values)])"
      ],
      "execution_count": 14,
      "outputs": [
        {
          "output_type": "stream",
          "name": "stderr",
          "text": [
            "/usr/local/lib/python3.7/dist-packages/gensim/models/doc2vec.py:570: UserWarning: The parameter `size` is deprecated, will be removed in 4.0.0, use `vector_size` instead.\n",
            "  warnings.warn(\"The parameter `size` is deprecated, will be removed in 4.0.0, use `vector_size` instead.\")\n",
            "100%|██████████| 4844/4844 [00:00<00:00, 1261546.64it/s]\n"
          ]
        }
      ]
    },
    {
      "cell_type": "code",
      "metadata": {
        "colab": {
          "base_uri": "https://localhost:8080/"
        },
        "id": "_hOJp4VaPf3m",
        "outputId": "77313baa-09dc-4210-d36c-6b9db71a099c"
      },
      "source": [
        "%%time\n",
        "for epoch in range(30):\n",
        "    d2v_model.train(utils.shuffle([x for x in tqdm(train_tagged.values)]), total_examples=len(train_tagged.values), epochs=1)\n",
        "    d2v_model.alpha -= 0.002\n",
        "    d2v_model.min_alpha = d2v_model.alpha"
      ],
      "execution_count": 15,
      "outputs": [
        {
          "output_type": "stream",
          "name": "stderr",
          "text": [
            "100%|██████████| 4844/4844 [00:00<00:00, 991857.48it/s]\n",
            "100%|██████████| 4844/4844 [00:00<00:00, 870526.10it/s]\n",
            "100%|██████████| 4844/4844 [00:00<00:00, 2343391.99it/s]\n",
            "100%|██████████| 4844/4844 [00:00<00:00, 2526073.43it/s]\n",
            "100%|██████████| 4844/4844 [00:00<00:00, 1041267.35it/s]\n",
            "100%|██████████| 4844/4844 [00:00<00:00, 1119158.78it/s]\n",
            "100%|██████████| 4844/4844 [00:00<00:00, 2616848.09it/s]\n",
            "100%|██████████| 4844/4844 [00:00<00:00, 1498761.33it/s]\n",
            "100%|██████████| 4844/4844 [00:00<00:00, 2183706.85it/s]\n",
            "100%|██████████| 4844/4844 [00:00<00:00, 1374828.03it/s]\n",
            "100%|██████████| 4844/4844 [00:00<00:00, 2473485.34it/s]\n",
            "100%|██████████| 4844/4844 [00:00<00:00, 2344473.64it/s]\n",
            "100%|██████████| 4844/4844 [00:00<00:00, 2619885.05it/s]\n",
            "100%|██████████| 4844/4844 [00:00<00:00, 2096935.55it/s]\n",
            "100%|██████████| 4844/4844 [00:00<00:00, 807199.39it/s]\n",
            "100%|██████████| 4844/4844 [00:00<00:00, 649672.52it/s]\n",
            "100%|██████████| 4844/4844 [00:00<00:00, 2478917.59it/s]\n",
            "100%|██████████| 4844/4844 [00:00<00:00, 700400.19it/s]\n",
            "100%|██████████| 4844/4844 [00:00<00:00, 2455251.79it/s]\n",
            "100%|██████████| 4844/4844 [00:00<00:00, 807135.25it/s]\n",
            "100%|██████████| 4844/4844 [00:00<00:00, 1032535.88it/s]\n",
            "100%|██████████| 4844/4844 [00:00<00:00, 853126.54it/s]\n",
            "100%|██████████| 4844/4844 [00:00<00:00, 1355384.16it/s]\n",
            "100%|██████████| 4844/4844 [00:00<00:00, 1577300.56it/s]\n",
            "100%|██████████| 4844/4844 [00:00<00:00, 1535112.09it/s]\n",
            "100%|██████████| 4844/4844 [00:00<00:00, 873219.95it/s]\n",
            "100%|██████████| 4844/4844 [00:00<00:00, 2421598.16it/s]\n",
            "100%|██████████| 4844/4844 [00:00<00:00, 2554659.70it/s]\n",
            "100%|██████████| 4844/4844 [00:00<00:00, 1223117.73it/s]\n",
            "100%|██████████| 4844/4844 [00:00<00:00, 1130429.45it/s]\n"
          ]
        },
        {
          "output_type": "stream",
          "name": "stdout",
          "text": [
            "CPU times: user 13.2 s, sys: 129 ms, total: 13.3 s\n",
            "Wall time: 13.5 s\n"
          ]
        }
      ]
    },
    {
      "cell_type": "code",
      "metadata": {
        "colab": {
          "base_uri": "https://localhost:8080/"
        },
        "id": "vl5__NsiPlH3",
        "outputId": "a080acdd-3aa3-4371-c5c5-6470c0a91880"
      },
      "source": [
        "print(d2v_model)"
      ],
      "execution_count": 16,
      "outputs": [
        {
          "output_type": "stream",
          "name": "stdout",
          "text": [
            "Doc2Vec(dm/m,d20,n5,w8,s0.001)\n"
          ]
        }
      ]
    },
    {
      "cell_type": "code",
      "metadata": {
        "colab": {
          "base_uri": "https://localhost:8080/"
        },
        "id": "E7dtt3VUPsid",
        "outputId": "4e3c0648-a12e-4aee-b3b9-7e67ff0679b9"
      },
      "source": [
        "len(d2v_model.wv.vocab)"
      ],
      "execution_count": 17,
      "outputs": [
        {
          "output_type": "execute_result",
          "data": {
            "text/plain": [
              "11683"
            ]
          },
          "metadata": {},
          "execution_count": 17
        }
      ]
    },
    {
      "cell_type": "code",
      "metadata": {
        "id": "X56WKvrNPw4G"
      },
      "source": [
        "# save the vectors in a new matrix\n",
        "embedding_matrix = np.zeros((len(d2v_model.wv.vocab)+ 1, 20))\n",
        "\n",
        "for i, vec in enumerate(d2v_model.docvecs.vectors_docs):\n",
        "    while i in vec <= 1000:\n",
        "    #print(i)\n",
        "    #print(model.docvecs)\n",
        "          embedding_matrix[i]=vec\n",
        "    #print(vec)\n",
        "    #print(vec[i])"
      ],
      "execution_count": 18,
      "outputs": []
    },
    {
      "cell_type": "code",
      "metadata": {
        "colab": {
          "base_uri": "https://localhost:8080/"
        },
        "id": "SRj-HfjIP269",
        "outputId": "396f4145-f8ae-4bc4-9f09-57bb2261ac9c"
      },
      "source": [
        "d2v_model.wv.most_similar(positive=['profit'], topn=10)"
      ],
      "execution_count": 19,
      "outputs": [
        {
          "output_type": "execute_result",
          "data": {
            "text/plain": [
              "[('loss', 0.8755455017089844),\n",
              " ('profits', 0.8194187879562378),\n",
              " ('income', 0.7687903642654419),\n",
              " ('pcmag.com', 0.7612228393554688),\n",
              " ('par', 0.7342640161514282),\n",
              " ('chopra', 0.7334152460098267),\n",
              " ('sales', 0.7081500291824341),\n",
              " ('26.9', 0.6992918848991394),\n",
              " ('307.8', 0.6969887614250183),\n",
              " ('earnings', 0.6929661631584167)]"
            ]
          },
          "metadata": {},
          "execution_count": 19
        }
      ]
    },
    {
      "cell_type": "code",
      "metadata": {
        "colab": {
          "base_uri": "https://localhost:8080/"
        },
        "id": "d2YDJK05P6q6",
        "outputId": "40afde07-de39-4986-a8dd-29482983bfe9"
      },
      "source": [
        "d2v_model.wv.most_similar(positive=['invest'], topn=10)"
      ],
      "execution_count": 20,
      "outputs": [
        {
          "output_type": "execute_result",
          "data": {
            "text/plain": [
              "[('turn', 0.7831788063049316),\n",
              " ('eur65m', 0.726768434047699),\n",
              " ('skanssi', 0.7161309719085693),\n",
              " ('build', 0.7151226997375488),\n",
              " ('ease', 0.6912818551063538),\n",
              " ('dartford', 0.6773691773414612),\n",
              " ('double', 0.6766923666000366),\n",
              " ('hectares', 0.6746565103530884),\n",
              " ('close', 0.6638385057449341),\n",
              " ('gogol', 0.660741925239563)]"
            ]
          },
          "metadata": {},
          "execution_count": 20
        }
      ]
    },
    {
      "cell_type": "code",
      "metadata": {
        "colab": {
          "base_uri": "https://localhost:8080/"
        },
        "id": "cIwTFa93P_71",
        "outputId": "caf81411-d3a3-4ab2-fad2-42f073f8a650"
      },
      "source": [
        "d2v_model.wv.most_similar(positive=['broke'], topn=10)"
      ],
      "execution_count": 21,
      "outputs": [
        {
          "output_type": "execute_result",
          "data": {
            "text/plain": [
              "[('mold', 0.9594777822494507),\n",
              " ('macro-economic', 0.871794581413269),\n",
              " ('understand', 0.8315093517303467),\n",
              " (\"'m\", 0.8314764499664307),\n",
              " ('gather', 0.8310142755508423),\n",
              " (\"n't\", 0.8300796747207642),\n",
              " ('troubles', 0.8253122568130493),\n",
              " ('enough', 0.8208563923835754),\n",
              " ('perspective', 0.8171011805534363),\n",
              " ('aptly', 0.8130013942718506)]"
            ]
          },
          "metadata": {},
          "execution_count": 21
        }
      ]
    },
    {
      "cell_type": "code",
      "metadata": {
        "id": "LfWWcal79Y3B",
        "colab": {
          "base_uri": "https://localhost:8080/"
        },
        "outputId": "c53c0887-8468-472e-f0a0-c50e9e15be6e"
      },
      "source": [
        "print(embedding_matrix.shape)"
      ],
      "execution_count": 22,
      "outputs": [
        {
          "output_type": "stream",
          "name": "stdout",
          "text": [
            "(11684, 20)\n"
          ]
        }
      ]
    },
    {
      "cell_type": "code",
      "metadata": {
        "id": "m3yJffb9QEGV"
      },
      "source": [
        "from sklearn.manifold import TSNE\n",
        "import matplotlib.pyplot as plt\n",
        "%matplotlib inline\n",
        "\n",
        "def tsne_plot(model):\n",
        "    \"Creates and TSNE model and plots it\"\n",
        "    labels = []\n",
        "    tokens = []\n",
        "\n",
        "    for word in d2v_model.wv.vocab:\n",
        "        tokens.append(model[word])\n",
        "        labels.append(word)\n",
        "    \n",
        "    tsne_model = TSNE(perplexity=40, n_components=2, init='pca', n_iter=250, random_state=23)\n",
        "    new_values = tsne_model.fit_transform(tokens)\n",
        "\n",
        "    x = []\n",
        "    y = []\n",
        "    for value in new_values:\n",
        "        x.append(value[0])\n",
        "        y.append(value[1])\n",
        "        \n",
        "    plt.figure(figsize=(16, 16)) \n",
        "    for i in range(len(x)):\n",
        "        plt.scatter(x[i],y[i])\n",
        "        plt.annotate(labels[i],\n",
        "                     xy=(x[i], y[i]),\n",
        "                     xytext=(5, 2),\n",
        "                     textcoords='offset points',\n",
        "                     ha='right',\n",
        "                     va='bottom')\n",
        "    plt.show()"
      ],
      "execution_count": 23,
      "outputs": []
    },
    {
      "cell_type": "code",
      "metadata": {
        "id": "Xnn9eTDgSHTT"
      },
      "source": [
        "# tsne_plot(d2v_model)"
      ],
      "execution_count": 24,
      "outputs": []
    },
    {
      "cell_type": "markdown",
      "metadata": {
        "id": "oYguQeAaZyBZ"
      },
      "source": [
        "## Model Building"
      ]
    },
    {
      "cell_type": "code",
      "metadata": {
        "colab": {
          "base_uri": "https://localhost:8080/"
        },
        "id": "FyQXzlxCHskn",
        "outputId": "6b0bca4c-10d3-4f5d-927f-0ee6a7ece2ea"
      },
      "source": [
        "from keras.models import Sequential\n",
        "from keras.layers import LSTM, Dense, Embedding\n",
        "\n",
        "# init layer\n",
        "model = Sequential()\n",
        "\n",
        "# emmbed word vectors\n",
        "model.add(Embedding(len(d2v_model.wv.vocab)+1,20,input_length=X.shape[1],weights=[embedding_matrix],trainable=True))\n",
        "\n",
        "# learn the correlations\n",
        "def split_input(sequence):\n",
        "     return sequence[:-1], tf.reshape(sequence[1:], (-1,1))\n",
        "model.add(LSTM(50,return_sequences=False))\n",
        "model.add(Dense(3,activation=\"softmax\"))\n",
        "\n",
        "# output model skeleton\n",
        "model.summary()\n",
        "model.compile(optimizer=\"adam\",loss=\"binary_crossentropy\",metrics=['acc'])"
      ],
      "execution_count": 25,
      "outputs": [
        {
          "output_type": "stream",
          "name": "stdout",
          "text": [
            "Model: \"sequential\"\n",
            "_________________________________________________________________\n",
            " Layer (type)                Output Shape              Param #   \n",
            "=================================================================\n",
            " embedding (Embedding)       (None, 50, 20)            233680    \n",
            "                                                                 \n",
            " lstm (LSTM)                 (None, 50)                14200     \n",
            "                                                                 \n",
            " dense (Dense)               (None, 3)                 153       \n",
            "                                                                 \n",
            "=================================================================\n",
            "Total params: 248,033\n",
            "Trainable params: 248,033\n",
            "Non-trainable params: 0\n",
            "_________________________________________________________________\n"
          ]
        }
      ]
    },
    {
      "cell_type": "code",
      "metadata": {
        "colab": {
          "base_uri": "https://localhost:8080/",
          "height": 0
        },
        "id": "hNmAp4ErSUW_",
        "outputId": "ce4ad3ed-2de3-4e1d-f78c-5c2e29381ca3"
      },
      "source": [
        "from keras.utils.vis_utils import plot_model\n",
        "plot_model(model, to_file='model.png')"
      ],
      "execution_count": 26,
      "outputs": [
        {
          "output_type": "execute_result",
          "data": {
            "image/png": "[encoded data removed]",
            "text/plain": [
              "<IPython.core.display.Image object>"
            ]
          },
          "metadata": {},
          "execution_count": 26
        }
      ]
    },
    {
      "cell_type": "markdown",
      "metadata": {
        "id": "YyUi7_sGZ0_c"
      },
      "source": [
        "## Testing and Training"
      ]
    },
    {
      "cell_type": "code",
      "metadata": {
        "colab": {
          "base_uri": "https://localhost:8080/"
        },
        "id": "xdb8SQzGSmB2",
        "outputId": "8323bb58-d0f2-4cad-c073-8e935731f62c"
      },
      "source": [
        "Y = pd.get_dummies(df['sentiment']).values\n",
        "X_train, X_test, Y_train, Y_test = train_test_split(X,Y, test_size = 0.15, random_state = 42)\n",
        "print(X_train.shape,Y_train.shape)\n",
        "print(X_test.shape,Y_test.shape)"
      ],
      "execution_count": 27,
      "outputs": [
        {
          "output_type": "stream",
          "name": "stdout",
          "text": [
            "(4118, 50) (4118, 3)\n",
            "(727, 50) (727, 3)\n"
          ]
        }
      ]
    },
    {
      "cell_type": "code",
      "metadata": {
        "colab": {
          "base_uri": "https://localhost:8080/"
        },
        "id": "lejg5rFPStfr",
        "outputId": "6b3e6c3c-f06d-4c56-a6a8-07897077397f"
      },
      "source": [
        "batch_size = 32\n",
        "history=model.fit(X_train, Y_train, epochs =50, batch_size=batch_size, verbose = 2)"
      ],
      "execution_count": 28,
      "outputs": [
        {
          "output_type": "stream",
          "name": "stdout",
          "text": [
            "Epoch 1/50\n",
            "129/129 - 6s - loss: 0.5482 - acc: 0.6032 - 6s/epoch - 45ms/step\n",
            "Epoch 2/50\n",
            "129/129 - 4s - loss: 0.4030 - acc: 0.7125 - 4s/epoch - 28ms/step\n",
            "Epoch 3/50\n",
            "129/129 - 4s - loss: 0.2937 - acc: 0.8018 - 4s/epoch - 28ms/step\n",
            "Epoch 4/50\n",
            "129/129 - 4s - loss: 0.2400 - acc: 0.8363 - 4s/epoch - 29ms/step\n",
            "Epoch 5/50\n",
            "129/129 - 4s - loss: 0.2098 - acc: 0.8519 - 4s/epoch - 31ms/step\n",
            "Epoch 6/50\n",
            "129/129 - 4s - loss: 0.1869 - acc: 0.8645 - 4s/epoch - 33ms/step\n",
            "Epoch 7/50\n",
            "129/129 - 5s - loss: 0.1386 - acc: 0.9131 - 5s/epoch - 37ms/step\n",
            "Epoch 8/50\n",
            "129/129 - 4s - loss: 0.0875 - acc: 0.9609 - 4s/epoch - 30ms/step\n",
            "Epoch 9/50\n",
            "129/129 - 4s - loss: 0.0621 - acc: 0.9757 - 4s/epoch - 29ms/step\n",
            "Epoch 10/50\n",
            "129/129 - 4s - loss: 0.0351 - acc: 0.9857 - 4s/epoch - 29ms/step\n",
            "Epoch 11/50\n",
            "129/129 - 4s - loss: 0.0312 - acc: 0.9883 - 4s/epoch - 28ms/step\n",
            "Epoch 12/50\n",
            "129/129 - 4s - loss: 0.0236 - acc: 0.9927 - 4s/epoch - 29ms/step\n",
            "Epoch 13/50\n",
            "129/129 - 4s - loss: 0.0225 - acc: 0.9905 - 4s/epoch - 29ms/step\n",
            "Epoch 14/50\n",
            "129/129 - 4s - loss: 0.0191 - acc: 0.9930 - 4s/epoch - 29ms/step\n",
            "Epoch 15/50\n",
            "129/129 - 4s - loss: 0.0159 - acc: 0.9942 - 4s/epoch - 28ms/step\n",
            "Epoch 16/50\n",
            "129/129 - 4s - loss: 0.0158 - acc: 0.9932 - 4s/epoch - 28ms/step\n",
            "Epoch 17/50\n",
            "129/129 - 4s - loss: 0.0133 - acc: 0.9956 - 4s/epoch - 27ms/step\n",
            "Epoch 18/50\n",
            "129/129 - 4s - loss: 0.0124 - acc: 0.9954 - 4s/epoch - 27ms/step\n",
            "Epoch 19/50\n",
            "129/129 - 4s - loss: 0.0089 - acc: 0.9961 - 4s/epoch - 28ms/step\n",
            "Epoch 20/50\n",
            "129/129 - 4s - loss: 0.0088 - acc: 0.9971 - 4s/epoch - 27ms/step\n",
            "Epoch 21/50\n",
            "129/129 - 4s - loss: 0.0122 - acc: 0.9951 - 4s/epoch - 27ms/step\n",
            "Epoch 22/50\n",
            "129/129 - 4s - loss: 0.0159 - acc: 0.9937 - 4s/epoch - 29ms/step\n",
            "Epoch 23/50\n",
            "129/129 - 4s - loss: 0.0069 - acc: 0.9981 - 4s/epoch - 28ms/step\n",
            "Epoch 24/50\n",
            "129/129 - 4s - loss: 0.0076 - acc: 0.9973 - 4s/epoch - 28ms/step\n",
            "Epoch 25/50\n",
            "129/129 - 4s - loss: 0.0074 - acc: 0.9968 - 4s/epoch - 28ms/step\n",
            "Epoch 26/50\n",
            "129/129 - 4s - loss: 0.0057 - acc: 0.9981 - 4s/epoch - 28ms/step\n",
            "Epoch 27/50\n",
            "129/129 - 4s - loss: 0.0040 - acc: 0.9983 - 4s/epoch - 28ms/step\n",
            "Epoch 28/50\n",
            "129/129 - 4s - loss: 0.0041 - acc: 0.9983 - 4s/epoch - 28ms/step\n",
            "Epoch 29/50\n",
            "129/129 - 4s - loss: 0.0039 - acc: 0.9981 - 4s/epoch - 28ms/step\n",
            "Epoch 30/50\n",
            "129/129 - 4s - loss: 0.0169 - acc: 0.9925 - 4s/epoch - 27ms/step\n",
            "Epoch 31/50\n",
            "129/129 - 4s - loss: 0.0073 - acc: 0.9968 - 4s/epoch - 28ms/step\n",
            "Epoch 32/50\n",
            "129/129 - 4s - loss: 0.0070 - acc: 0.9961 - 4s/epoch - 28ms/step\n",
            "Epoch 33/50\n",
            "129/129 - 4s - loss: 0.0042 - acc: 0.9981 - 4s/epoch - 28ms/step\n",
            "Epoch 34/50\n",
            "129/129 - 4s - loss: 0.0038 - acc: 0.9983 - 4s/epoch - 28ms/step\n",
            "Epoch 35/50\n",
            "129/129 - 4s - loss: 0.0049 - acc: 0.9981 - 4s/epoch - 28ms/step\n",
            "Epoch 36/50\n",
            "129/129 - 4s - loss: 0.0047 - acc: 0.9976 - 4s/epoch - 28ms/step\n",
            "Epoch 37/50\n",
            "129/129 - 4s - loss: 0.0048 - acc: 0.9976 - 4s/epoch - 28ms/step\n",
            "Epoch 38/50\n",
            "129/129 - 4s - loss: 0.0076 - acc: 0.9959 - 4s/epoch - 27ms/step\n",
            "Epoch 39/50\n",
            "129/129 - 4s - loss: 0.0039 - acc: 0.9983 - 4s/epoch - 27ms/step\n",
            "Epoch 40/50\n",
            "129/129 - 4s - loss: 0.0030 - acc: 0.9983 - 4s/epoch - 27ms/step\n",
            "Epoch 41/50\n",
            "129/129 - 4s - loss: 0.0047 - acc: 0.9973 - 4s/epoch - 28ms/step\n",
            "Epoch 42/50\n",
            "129/129 - 4s - loss: 0.0085 - acc: 0.9971 - 4s/epoch - 28ms/step\n",
            "Epoch 43/50\n",
            "129/129 - 4s - loss: 0.0032 - acc: 0.9985 - 4s/epoch - 28ms/step\n",
            "Epoch 44/50\n",
            "129/129 - 4s - loss: 0.0033 - acc: 0.9978 - 4s/epoch - 28ms/step\n",
            "Epoch 45/50\n",
            "129/129 - 4s - loss: 0.0037 - acc: 0.9981 - 4s/epoch - 28ms/step\n",
            "Epoch 46/50\n",
            "129/129 - 4s - loss: 0.0025 - acc: 0.9983 - 4s/epoch - 27ms/step\n",
            "Epoch 47/50\n",
            "129/129 - 4s - loss: 0.0025 - acc: 0.9985 - 4s/epoch - 27ms/step\n",
            "Epoch 48/50\n",
            "129/129 - 4s - loss: 0.0019 - acc: 0.9993 - 4s/epoch - 28ms/step\n",
            "Epoch 49/50\n",
            "129/129 - 4s - loss: 0.0184 - acc: 0.9925 - 4s/epoch - 28ms/step\n",
            "Epoch 50/50\n",
            "129/129 - 4s - loss: 0.0077 - acc: 0.9959 - 4s/epoch - 28ms/step\n"
          ]
        }
      ]
    },
    {
      "cell_type": "code",
      "metadata": {
        "colab": {
          "base_uri": "https://localhost:8080/",
          "height": 590
        },
        "id": "nGbDCiFATdG6",
        "outputId": "ec813cf5-d9a6-4631-d084-6e9a278e6538"
      },
      "source": [
        "plt.plot(history.history['acc'])\n",
        "plt.title('model accuracy')\n",
        "plt.ylabel('acc')\n",
        "plt.xlabel('epochs')\n",
        "plt.legend(['train', 'test'], loc='upper left')\n",
        "plt.show()\n",
        "plt.savefig('model_accuracy.png')\n",
        "\n",
        "# summarize history for loss\n",
        "plt.plot(history.history['loss'])\n",
        "#plt.plot(history.history['val_loss'])\n",
        "plt.title('model loss')\n",
        "plt.ylabel('loss')\n",
        "plt.xlabel('epochs')\n",
        "plt.legend(['train', 'test'], loc='upper left')\n",
        "plt.show()\n",
        "plt.savefig('model_loss.png')"
      ],
      "execution_count": 29,
      "outputs": [
        {
          "output_type": "display_data",
          "data": {
            "image/png": "[encoded data removed]",
            "text/plain": [
              "<Figure size 432x288 with 1 Axes>"
            ]
          },
          "metadata": {
            "needs_background": "light"
          }
        },
        {
          "output_type": "display_data",
          "data": {
            "image/png": "[encoded data removed]",
            "text/plain": [
              "<Figure size 432x288 with 1 Axes>"
            ]
          },
          "metadata": {
            "needs_background": "light"
          }
        },
        {
          "output_type": "display_data",
          "data": {
            "text/plain": [
              "<Figure size 432x288 with 0 Axes>"
            ]
          },
          "metadata": {}
        }
      ]
    },
    {
      "cell_type": "code",
      "metadata": {
        "colab": {
          "base_uri": "https://localhost:8080/"
        },
        "id": "DithSwGzUpqU",
        "outputId": "98da3d42-3b1a-455d-dfc6-ce71339d6555"
      },
      "source": [
        "# evaluate the model\n",
        "_, train_acc = model.evaluate(X_train, Y_train, verbose=2)\n",
        "_, test_acc = model.evaluate(X_test, Y_test, verbose=2)\n",
        "print('Train: %.3f, Test: %.4f' % (train_acc, test_acc))"
      ],
      "execution_count": 30,
      "outputs": [
        {
          "output_type": "stream",
          "name": "stdout",
          "text": [
            "129/129 - 1s - loss: 0.0168 - acc: 0.9917 - 1s/epoch - 11ms/step\n",
            "23/23 - 0s - loss: 1.2018 - acc: 0.7098 - 185ms/epoch - 8ms/step\n",
            "Train: 0.992, Test: 0.7098\n"
          ]
        }
      ]
    },
    {
      "cell_type": "markdown",
      "metadata": {
        "id": "BEk7ChCeZ6oB"
      },
      "source": [
        "## Evaluation"
      ]
    },
    {
      "cell_type": "code",
      "metadata": {
        "colab": {
          "base_uri": "https://localhost:8080/"
        },
        "id": "677xm2dvUyK4",
        "outputId": "d2703c6c-2b1e-4b7f-870a-fecdadc94039"
      },
      "source": [
        "# predict probabilities for test set\n",
        "yhat_probs = model.predict(X_test, verbose=0)\n",
        "print(yhat_probs)\n",
        "# predict crisp classes for test set\n",
        "# yhat_classes = model.predict_classes(X_test, verbose=0)\n",
        "\n",
        "\n",
        "predict_x=model.predict(X_test) \n",
        "yhat_classes=np.argmax(predict_x,axis=1)\n",
        "\n",
        "print(yhat_classes)\n",
        "# reduce to 1d array\n",
        "#yhat_probs = yhat_probs[:, 0]\n",
        "#yhat_classes = yhat_classes[:, 1"
      ],
      "execution_count": 31,
      "outputs": [
        {
          "output_type": "stream",
          "name": "stdout",
          "text": [
            "[[1.2712649e-09 1.0000000e+00 1.4062872e-09]\n",
            " [9.9999976e-01 1.6203238e-07 8.0009997e-08]\n",
            " [1.3930466e-08 1.0000000e+00 1.5808968e-08]\n",
            " ...\n",
            " [9.9999213e-01 5.5369378e-06 2.3581385e-06]\n",
            " [4.1586290e-09 1.0000000e+00 4.1501500e-09]\n",
            " [9.8814559e-01 2.4426593e-03 9.4118360e-03]]\n",
            "[1 0 1 1 1 1 1 1 1 1 1 1 0 2 1 1 1 1 2 1 1 1 0 0 1 0 1 1 1 0 1 1 1 2 1 1 1\n",
            " 1 1 1 0 1 0 1 0 1 1 1 0 1 2 1 0 0 1 0 1 1 0 1 0 0 0 0 1 1 1 1 1 2 1 1 0 1\n",
            " 0 1 1 1 1 0 1 2 0 1 0 0 1 0 1 0 0 1 1 2 1 1 0 1 1 1 0 1 1 2 0 1 1 1 0 1 1\n",
            " 1 0 0 1 0 0 0 0 0 0 0 0 1 1 1 1 1 0 1 1 1 0 1 0 1 0 1 1 1 1 1 1 1 1 1 2 1\n",
            " 0 1 1 1 1 1 1 0 1 1 2 1 0 1 1 0 1 1 1 2 1 0 1 0 0 1 0 0 0 0 1 0 1 0 0 1 1\n",
            " 2 1 0 1 1 1 0 0 1 0 0 1 1 1 1 1 1 1 1 1 0 1 1 0 1 0 1 1 1 1 1 1 2 1 0 0 1\n",
            " 1 1 1 1 1 0 1 1 1 0 1 1 2 0 1 0 1 1 1 1 1 0 0 1 1 1 1 1 1 1 0 1 1 0 1 1 1\n",
            " 1 1 0 1 0 2 2 0 1 1 1 1 1 0 1 1 1 1 0 0 0 1 0 1 1 1 1 1 1 1 1 0 1 0 1 2 1\n",
            " 1 1 0 1 0 1 1 1 1 0 1 0 1 0 1 2 0 1 1 1 1 1 1 0 1 1 0 1 0 1 1 0 1 1 1 1 1\n",
            " 1 0 2 1 0 1 1 0 1 1 0 1 1 1 0 1 1 0 1 0 1 1 1 0 1 2 1 1 1 1 1 0 0 0 0 1 0\n",
            " 0 1 1 1 1 1 1 1 0 0 0 0 2 1 0 1 1 1 0 1 0 1 1 0 1 0 1 1 1 0 0 1 1 1 2 2 1\n",
            " 0 1 1 0 1 1 0 1 1 0 1 1 0 1 0 0 1 2 1 1 1 0 1 0 0 1 1 1 1 0 0 0 1 1 0 1 1\n",
            " 1 1 1 0 0 2 1 1 1 0 1 1 2 1 1 0 1 1 1 0 1 2 1 0 1 1 1 1 1 1 1 1 1 0 1 0 1\n",
            " 0 1 0 1 1 1 0 0 0 1 1 0 1 1 0 1 1 1 0 0 1 1 1 0 1 1 1 1 1 0 0 0 1 0 0 1 1\n",
            " 2 0 0 1 0 1 1 1 1 0 1 1 1 1 0 1 1 1 1 1 1 1 1 0 1 0 1 1 0 0 1 1 1 1 1 1 1\n",
            " 0 2 1 1 1 1 1 2 0 1 0 1 0 2 1 1 1 1 0 1 1 1 1 2 1 1 1 0 1 1 0 1 1 1 1 1 1\n",
            " 0 0 0 1 1 1 2 1 0 1 0 1 0 0 2 1 0 1 0 1 1 0 1 1 1 0 1 0 0 1 1 1 1 1 0 1 1\n",
            " 1 1 0 1 1 0 1 1 0 1 1 1 1 1 1 1 0 0 1 1 2 0 0 0 0 1 0 0 0 1 1 1 0 1 1 1 0\n",
            " 1 1 1 0 1 1 1 1 0 1 1 1 0 2 1 1 1 1 1 1 1 0 0 0 1 0 1 1 0 2 1 1 1 1 1 1 1\n",
            " 2 1 0 1 2 1 0 1 2 1 1 1 1 1 0 0 0 1 1 1 1 0 1 0]\n"
          ]
        }
      ]
    },
    {
      "cell_type": "code",
      "metadata": {
        "colab": {
          "base_uri": "https://localhost:8080/"
        },
        "id": "SK72D4NnW7MC",
        "outputId": "ae285348-3ed1-4f88-ab1c-3303951874e4"
      },
      "source": [
        "import numpy as np\n",
        "rounded_labels=np.argmax(Y_test, axis=1)\n",
        "rounded_labels"
      ],
      "execution_count": 32,
      "outputs": [
        {
          "output_type": "execute_result",
          "data": {
            "text/plain": [
              "array([1, 0, 1, 1, 1, 1, 1, 1, 1, 1, 1, 0, 1, 2, 1, 0, 1, 0, 0, 2, 2, 1,\n",
              "       0, 0, 1, 0, 1, 0, 0, 2, 1, 1, 0, 2, 1, 0, 2, 0, 1, 1, 0, 1, 2, 1,\n",
              "       0, 1, 1, 1, 0, 0, 2, 1, 0, 2, 1, 0, 1, 1, 1, 1, 0, 0, 0, 1, 2, 1,\n",
              "       0, 1, 1, 1, 1, 0, 0, 0, 0, 1, 0, 1, 1, 0, 1, 2, 0, 1, 0, 0, 0, 0,\n",
              "       0, 0, 0, 1, 2, 2, 1, 0, 1, 1, 0, 1, 2, 1, 1, 2, 1, 1, 1, 1, 1, 1,\n",
              "       1, 0, 2, 1, 1, 0, 0, 0, 0, 0, 0, 1, 1, 1, 1, 0, 0, 1, 0, 1, 2, 0,\n",
              "       1, 1, 0, 1, 0, 2, 1, 1, 1, 1, 1, 0, 1, 1, 1, 1, 0, 1, 1, 1, 1, 1,\n",
              "       1, 1, 1, 1, 2, 2, 0, 0, 1, 0, 1, 0, 1, 2, 1, 1, 1, 0, 1, 1, 0, 1,\n",
              "       1, 1, 1, 1, 0, 0, 1, 0, 1, 2, 1, 2, 1, 2, 1, 1, 0, 0, 1, 0, 2, 1,\n",
              "       2, 0, 1, 1, 0, 2, 1, 0, 1, 0, 0, 1, 1, 1, 1, 1, 1, 1, 1, 2, 0, 1,\n",
              "       0, 1, 1, 1, 2, 1, 1, 0, 1, 1, 1, 0, 0, 1, 2, 0, 1, 0, 1, 1, 1, 1,\n",
              "       1, 2, 0, 0, 0, 1, 1, 1, 1, 1, 0, 1, 1, 1, 1, 1, 1, 1, 1, 0, 1, 0,\n",
              "       2, 1, 2, 1, 1, 0, 1, 1, 2, 0, 1, 1, 1, 1, 1, 0, 1, 0, 1, 1, 0, 1,\n",
              "       1, 1, 2, 1, 0, 1, 0, 2, 2, 1, 1, 1, 0, 1, 0, 1, 1, 2, 1, 2, 1, 0,\n",
              "       1, 0, 1, 2, 1, 1, 0, 1, 1, 1, 1, 0, 1, 1, 0, 1, 0, 1, 1, 0, 1, 1,\n",
              "       1, 1, 0, 0, 0, 0, 0, 0, 1, 1, 1, 1, 0, 1, 1, 1, 2, 0, 2, 1, 0, 1,\n",
              "       1, 1, 1, 1, 0, 1, 2, 0, 1, 1, 1, 1, 0, 0, 1, 2, 1, 0, 0, 0, 1, 1,\n",
              "       1, 0, 1, 0, 2, 0, 0, 1, 2, 1, 0, 1, 0, 1, 1, 1, 1, 0, 1, 0, 1, 2,\n",
              "       2, 1, 0, 1, 1, 0, 1, 1, 2, 2, 0, 1, 1, 1, 1, 1, 0, 0, 1, 2, 0, 1,\n",
              "       1, 0, 2, 0, 1, 2, 2, 1, 1, 2, 1, 1, 0, 0, 1, 1, 1, 1, 1, 0, 2, 0,\n",
              "       1, 0, 1, 1, 1, 1, 0, 2, 1, 2, 1, 1, 1, 1, 1, 1, 2, 1, 1, 0, 1, 1,\n",
              "       1, 1, 1, 1, 1, 2, 1, 2, 1, 1, 1, 1, 1, 1, 0, 1, 1, 0, 1, 0, 1, 0,\n",
              "       1, 1, 1, 1, 0, 0, 1, 1, 1, 1, 1, 1, 1, 0, 1, 1, 1, 2, 1, 1, 0, 1,\n",
              "       1, 1, 1, 1, 2, 0, 0, 1, 0, 1, 0, 1, 1, 1, 1, 0, 0, 1, 1, 1, 0, 0,\n",
              "       1, 1, 2, 1, 0, 1, 1, 1, 1, 1, 1, 1, 1, 0, 1, 0, 1, 1, 0, 0, 2, 0,\n",
              "       0, 1, 1, 1, 1, 0, 2, 1, 0, 1, 1, 0, 2, 2, 1, 0, 1, 0, 2, 0, 0, 1,\n",
              "       1, 1, 1, 1, 1, 1, 2, 1, 1, 0, 0, 1, 1, 0, 1, 1, 1, 1, 0, 1, 1, 0,\n",
              "       0, 1, 1, 1, 2, 1, 1, 1, 1, 1, 1, 0, 2, 1, 2, 1, 0, 1, 0, 0, 0, 1,\n",
              "       1, 2, 1, 0, 2, 2, 1, 0, 1, 0, 1, 1, 0, 1, 0, 0, 2, 0, 0, 1, 1, 0,\n",
              "       1, 1, 1, 1, 1, 1, 1, 0, 0, 1, 1, 2, 0, 0, 0, 0, 1, 0, 2, 0, 1, 1,\n",
              "       0, 1, 1, 1, 1, 2, 1, 1, 1, 1, 1, 1, 1, 1, 1, 1, 1, 1, 0, 2, 1, 0,\n",
              "       1, 1, 1, 2, 0, 0, 1, 0, 1, 2, 1, 1, 1, 2, 1, 0, 1, 1, 1, 0, 1, 1,\n",
              "       2, 0, 1, 1, 1, 0, 1, 2, 1, 1, 1, 1, 0, 0, 0, 0, 1, 0, 1, 0, 1, 0,\n",
              "       0])"
            ]
          },
          "metadata": {},
          "execution_count": 32
        }
      ]
    },
    {
      "cell_type": "code",
      "metadata": {
        "colab": {
          "base_uri": "https://localhost:8080/"
        },
        "id": "X5J70v-JXD4l",
        "outputId": "e9b4d7f5-80fe-4f2b-d4c2-757d5a216baa"
      },
      "source": [
        "from sklearn.metrics import confusion_matrix\n",
        "cm = confusion_matrix(rounded_labels, yhat_classes)\n",
        "cm"
      ],
      "execution_count": 33,
      "outputs": [
        {
          "output_type": "execute_result",
          "data": {
            "text/plain": [
              "array([[130,  83,   2],\n",
              "       [ 64, 355,   7],\n",
              "       [ 24,  31,  31]])"
            ]
          },
          "metadata": {},
          "execution_count": 33
        }
      ]
    },
    {
      "cell_type": "code",
      "metadata": {
        "colab": {
          "base_uri": "https://localhost:8080/",
          "height": 350
        },
        "id": "hbSiI2K9XJIV",
        "outputId": "c6738f5a-b1e6-4512-edf8-1a607139d745"
      },
      "source": [
        "# The confusion matrix\n",
        "from sklearn.metrics import confusion_matrix\n",
        "import seaborn as sns\n",
        "\n",
        "lstm_val = confusion_matrix(rounded_labels, yhat_classes)\n",
        "f, ax = plt.subplots(figsize=(5,5))\n",
        "sns.heatmap(lstm_val, annot=True, linewidth=0.7, linecolor='cyan', fmt='g', ax=ax, cmap=\"BuPu\")\n",
        "plt.title('LSTM Classification Confusion Matrix')\n",
        "plt.xlabel('Y predict')\n",
        "plt.ylabel('Y test')\n",
        "plt.show()"
      ],
      "execution_count": 34,
      "outputs": [
        {
          "output_type": "display_data",
          "data": {
            "image/png": "[encoded data removed]",
            "text/plain": [
              "<Figure size 360x360 with 2 Axes>"
            ]
          },
          "metadata": {
            "needs_background": "light"
          }
        }
      ]
    },
    {
      "cell_type": "code",
      "metadata": {
        "colab": {
          "base_uri": "https://localhost:8080/"
        },
        "id": "fhE0L9foXV_9",
        "outputId": "2d664c2c-67d9-4e87-99b5-05f7dd20b06e"
      },
      "source": [
        "validation_size = 610\n",
        "\n",
        "X_validate = X_test[-validation_size:]\n",
        "Y_validate = Y_test[-validation_size:]\n",
        "X_test = X_test[:-validation_size]\n",
        "Y_test = Y_test[:-validation_size]\n",
        "score,acc = model.evaluate(X_test, Y_test, verbose = 1, batch_size = batch_size)\n",
        "\n",
        "print(\"score: %.2f\" % (score))\n",
        "print(\"acc: %.2f\" % (acc))"
      ],
      "execution_count": 35,
      "outputs": [
        {
          "output_type": "stream",
          "name": "stdout",
          "text": [
            "4/4 [==============================] - 0s 9ms/step - loss: 1.4430 - acc: 0.6838\n",
            "score: 1.44\n",
            "acc: 0.68\n"
          ]
        }
      ]
    },
    {
      "cell_type": "code",
      "metadata": {
        "id": "6DVZAxM6aNMc",
        "colab": {
          "base_uri": "https://localhost:8080/"
        },
        "outputId": "4d4633b3-cbd3-4d9d-fbbb-d1c92fd7b49e"
      },
      "source": [
        "from sklearn.metrics import precision_score\n",
        "from sklearn.metrics import recall_score\n",
        "from sklearn.metrics import f1_score\n",
        "\n",
        "precision = precision_score(rounded_labels, yhat_classes, average = 'macro')\n",
        "recall = recall_score(rounded_labels, yhat_classes, average = 'macro')\n",
        "f1 = f1_score(rounded_labels, yhat_classes, average = 'macro')\n",
        "\n",
        "print(precision)\n",
        "print(recall)\n",
        "print(f1)"
      ],
      "execution_count": 36,
      "outputs": [
        {
          "output_type": "stream",
          "name": "stdout",
          "text": [
            "0.70941997091867\n",
            "0.5994832041343668\n",
            "0.628607158404467\n"
          ]
        }
      ]
    },
    {
      "cell_type": "code",
      "metadata": {
        "id": "jPs_fQhkXgGa"
      },
      "source": [
        "model.save('Mymodel.h5')"
      ],
      "execution_count": 37,
      "outputs": []
    },
    {
      "cell_type": "markdown",
      "metadata": {
        "id": "O8hun8i8aCk9"
      },
      "source": [
        "## Tesing New Inputs"
      ]
    },
    {
      "cell_type": "code",
      "metadata": {
        "colab": {
          "base_uri": "https://localhost:8080/"
        },
        "id": "941ljYNpXmuL",
        "outputId": "07b6297a-2628-4ab9-cdf4-b08202151fe5"
      },
      "source": [
        "message = ['Congratulations! you have won a $1,000 Walmart gift card']\n",
        "seq = tokenizer.texts_to_sequences(message)\n",
        "\n",
        "padded = pad_sequences(seq, maxlen=X.shape[1], dtype='int32', value=0)\n",
        "\n",
        "pred = model.predict(padded)\n",
        "\n",
        "labels = ['0','1','2']\n",
        "print(pred, labels[np.argmax(pred)])"
      ],
      "execution_count": null,
      "outputs": [
        {
          "output_type": "stream",
          "name": "stdout",
          "text": [
            "[[0.9908083  0.00563567 0.0035561 ]] 0\n"
          ]
        }
      ]
    },
    {
      "cell_type": "code",
      "metadata": {
        "colab": {
          "base_uri": "https://localhost:8080/"
        },
        "id": "9I5TlIDmXtSW",
        "outputId": "53afe115-3b9a-43f2-e844-b4978936fb85"
      },
      "source": [
        "message = ['such massive asteroid hit will certainly create new business opportunities']\n",
        "seq = tokenizer.texts_to_sequences(message)\n",
        "\n",
        "padded = pad_sequences(seq, maxlen=X.shape[1], dtype='int32', value=0)\n",
        "\n",
        "pred = model.predict(padded)\n",
        "\n",
        "labels = ['0','1','2']\n",
        "print(pred, labels[np.argmax(pred)])"
      ],
      "execution_count": null,
      "outputs": [
        {
          "output_type": "stream",
          "name": "stdout",
          "text": [
            "[[3.5811632e-03 9.2142553e-04 9.9549747e-01]] 2\n"
          ]
        }
      ]
    },
    {
      "cell_type": "code",
      "metadata": {
        "colab": {
          "base_uri": "https://localhost:8080/"
        },
        "id": "NgOTabGbXyCx",
        "outputId": "35e9fc77-009f-4b13-936f-e3999641f7ee"
      },
      "source": [
        "message = ['so does anyone else not open Snapchat anymore ? or is it just me ... ugh this so sad.']\n",
        "seq = tokenizer.texts_to_sequences(message)\n",
        "\n",
        "padded = pad_sequences(seq, maxlen=X.shape[1], dtype='int32', value=0)\n",
        "\n",
        "pred = model.predict(padded)\n",
        "\n",
        "labels = ['0','1','2']\n",
        "print(pred, labels[np.argmax(pred)])"
      ],
      "execution_count": null,
      "outputs": [
        {
          "output_type": "stream",
          "name": "stdout",
          "text": [
            "[[1.0786575e-09 1.0000000e+00 2.4114524e-09]] 1\n"
          ]
        }
      ]
    },
    {
      "cell_type": "code",
      "metadata": {
        "colab": {
          "base_uri": "https://localhost:8080/"
        },
        "id": "N2RqtB6AX6ux",
        "outputId": "61458068-2d92-4787-92c5-f63073fd231a"
      },
      "source": [
        "\n",
        "\n",
        "message = ['@elonmusk had a terrible experience with a very pushy sales guy from tesla Stanford shop while shopping for model x']\n",
        "seq = tokenizer.texts_to_sequences(message)\n",
        "\n",
        "padded = pad_sequences(seq, maxlen=X.shape[1], dtype='int32', value=0)\n",
        "\n",
        "pred = model.predict(padded)\n",
        "\n",
        "labels = ['0','1','2']\n",
        "print(pred, labels[np.argmax(pred)])\n",
        "\n"
      ],
      "execution_count": null,
      "outputs": [
        {
          "output_type": "stream",
          "name": "stdout",
          "text": [
            "[[9.9957806e-01 4.1401849e-04 7.9053634e-06]] 0\n"
          ]
        }
      ]
    },
    {
      "cell_type": "code",
      "metadata": {
        "colab": {
          "base_uri": "https://localhost:8080/"
        },
        "id": "IVH8-DXjX9DC",
        "outputId": "0996025a-5bb9-4488-d084-97157d90cf2c"
      },
      "source": [
        "message = ['The local electronics industry is expected to remain stable amid layoff concerns surrounding Japanese electronics giants operating in the country, an official says.']\n",
        "seq = tokenizer.texts_to_sequences(message)\n",
        "\n",
        "padded = pad_sequences(seq, maxlen=X.shape[1], dtype='int32', value=0)\n",
        "\n",
        "pred = model.predict(padded)\n",
        "\n",
        "labels = ['0','1','2']\n",
        "print(pred, labels[np.argmax(pred)])"
      ],
      "execution_count": null,
      "outputs": [
        {
          "output_type": "stream",
          "name": "stdout",
          "text": [
            "[[3.6697056e-06 9.9999511e-01 1.1580016e-06]] 1\n"
          ]
        }
      ]
    },
    {
      "cell_type": "code",
      "metadata": {
        "colab": {
          "base_uri": "https://localhost:8080/"
        },
        "id": "jZdNQgueYCV6",
        "outputId": "616d6efb-e565-495c-e26e-a474853a3c0b"
      },
      "source": [
        "message = ['The local electronics industry is amid layoff concerns and last year has laid off tens of employees']\n",
        "seq = tokenizer.texts_to_sequences(message)\n",
        "\n",
        "padded = pad_sequences(seq, maxlen=X.shape[1], dtype='int32', value=0)\n",
        "\n",
        "pred = model.predict(padded)\n",
        "\n",
        "labels = ['0','1','2']\n",
        "print(pred, labels[np.argmax(pred)])"
      ],
      "execution_count": null,
      "outputs": [
        {
          "output_type": "stream",
          "name": "stdout",
          "text": [
            "[[8.7507509e-08 6.2331345e-08 9.9999988e-01]] 2\n"
          ]
        }
      ]
    }
  ]
}